{
 "cells": [
  {
   "cell_type": "markdown",
   "metadata": {
    "papermill": {
     "duration": 0.076382,
     "end_time": "2021-03-14T10:38:36.730326",
     "exception": false,
     "start_time": "2021-03-14T10:38:36.653944",
     "status": "completed"
    },
    "tags": []
   },
   "source": [
    "<center>\n",
    "<img src=\"https://previews.123rf.com/images/ivanmogilevchik/ivanmogilevchik1704/ivanmogilevchik170400258/75575734-%EC%B2%AD-%EC%96%B4-%EC%86%A1%EC%96%B4%EC%99%80-%EC%8A%A4%EC%BC%80%EC%B9%98-%ED%95%B4%EC%82%B0%EB%AC%BC-%EC%8B%9C%EC%9E%A5%EC%9D%98-%EA%B0%9C%EB%85%90-%EC%9E%89%EC%96%B4-%EC%97%B0%EC%96%B4-%EB%84%99%EC%B9%98-%EC%9E%B0%EB%8D%94-%EB%86%8D%EC%96%B4-%EB%8C%80%EA%B5%AC-%EC%8A%A4%ED%94%BC%EB%A6%BF-%EB%AC%BC%EA%B3%A0%EA%B8%B0-%EC%A0%9C%ED%92%88-%EC%B9%B4%EC%9A%B4%ED%84%B0-%EB%B2%A1%ED%84%B0-%EC%9D%BC%EB%9F%AC%EC%8A%A4%ED%8A%B8-%EB%A0%88%EC%9D%B4%EC%85%98%EC%97%90.jpg\" width=500>"
   ]
  },
  {
   "cell_type": "markdown",
   "metadata": {
    "papermill": {
     "duration": 0.077019,
     "end_time": "2021-03-14T10:38:36.884713",
     "exception": false,
     "start_time": "2021-03-14T10:38:36.807694",
     "status": "completed"
    },
    "tags": []
   },
   "source": [
    "# <center> kNN Classification on Fish Market"
   ]
  },
  {
   "cell_type": "markdown",
   "metadata": {
    "papermill": {
     "duration": 0.073887,
     "end_time": "2021-03-14T10:38:37.034079",
     "exception": false,
     "start_time": "2021-03-14T10:38:36.960192",
     "status": "completed"
    },
    "tags": []
   },
   "source": [
    "## Table of Contents  \n",
    "\n",
    "1. [Introduction](#1.-Introduction)\n",
    "2. [Data Exploration](#2.-Data-Exploration)\n",
    "3. [Model Fitting and Training](#3.-Model-Fitting-Training)\n",
    "4. [Sampling Issue](#4.-Sampling-Issue)\n",
    "5. [Scaling Issue](#5.-Scaling-Issue)\n",
    "6. [Conclusion](#6.-Conclusion) "
   ]
  },
  {
   "cell_type": "markdown",
   "metadata": {
    "papermill": {
     "duration": 0.074959,
     "end_time": "2021-03-14T10:38:37.188544",
     "exception": false,
     "start_time": "2021-03-14T10:38:37.113585",
     "status": "completed"
    },
    "tags": []
   },
   "source": [
    "---"
   ]
  },
  {
   "cell_type": "markdown",
   "metadata": {
    "papermill": {
     "duration": 0.076632,
     "end_time": "2021-03-14T10:38:37.339092",
     "exception": false,
     "start_time": "2021-03-14T10:38:37.262460",
     "status": "completed"
    },
    "tags": []
   },
   "source": [
    "# 1. Introduction"
   ]
  },
  {
   "cell_type": "markdown",
   "metadata": {
    "papermill": {
     "duration": 0.075585,
     "end_time": "2021-03-14T10:38:37.489837",
     "exception": false,
     "start_time": "2021-03-14T10:38:37.414252",
     "status": "completed"
    },
    "tags": []
   },
   "source": [
    "Do you like fishing? I like fishing. This is one of reasons I chose this dataset.\n",
    "\n",
    "This is the notebook for machine learning begginer using Fish market data. In particular, this will deal with KNeighborsClassifier Scikit-Learn class and this is one of classification methodology of ML. \n",
    "\n",
    "Overall I would like to focus 3 areas. \n",
    "\n",
    "* kNN Classification class\n",
    "* Sampling issue\n",
    "* Scaling issue \n",
    "\n",
    "I will talk about what kNN model is while showing how to deal with datasets.\n",
    "And then talk about why sampling method is important in kNN which is classification ML. "
   ]
  },
  {
   "cell_type": "markdown",
   "metadata": {
    "papermill": {
     "duration": 0.073519,
     "end_time": "2021-03-14T10:38:37.639084",
     "exception": false,
     "start_time": "2021-03-14T10:38:37.565565",
     "status": "completed"
    },
    "tags": []
   },
   "source": [
    "## Data Import"
   ]
  },
  {
   "cell_type": "code",
   "execution_count": 99,
   "metadata": {
    "_cell_guid": "b1076dfc-b9ad-4769-8c92-a6c4dae69d19",
    "_kg_hide-input": true,
    "_uuid": "8f2839f25d086af736a60e9eeb907d3b93b6e0e5",
    "execution": {
     "iopub.execute_input": "2021-03-14T10:38:37.794317Z",
     "iopub.status.busy": "2021-03-14T10:38:37.793482Z",
     "iopub.status.idle": "2021-03-14T10:38:39.315055Z",
     "shell.execute_reply": "2021-03-14T10:38:39.314215Z"
    },
    "papermill": {
     "duration": 1.600205,
     "end_time": "2021-03-14T10:38:39.315270",
     "exception": false,
     "start_time": "2021-03-14T10:38:37.715065",
     "status": "completed"
    },
    "tags": []
   },
   "outputs": [],
   "source": [
    "import numpy as np\n",
    "import pandas as pd\n",
    "import matplotlib.pyplot as plt\n",
    "import seaborn as sns\n",
    "\n",
    "from sklearn.neighbors import KNeighborsClassifier\n",
    "from sklearn.metrics import confusion_matrix, classification_report  \n",
    "from sklearn.model_selection import train_test_split\n",
    "from sklearn.preprocessing import StandardScaler, MinMaxScaler  \n",
    "\n",
    "\n",
    "import warnings\n",
    "warnings.filterwarnings(\"ignore\")"
   ]
  },
  {
   "cell_type": "code",
   "execution_count": 2,
   "metadata": {
    "_kg_hide-input": true,
    "execution": {
     "iopub.execute_input": "2021-03-14T10:38:39.469446Z",
     "iopub.status.busy": "2021-03-14T10:38:39.468717Z",
     "iopub.status.idle": "2021-03-14T10:38:39.492639Z",
     "shell.execute_reply": "2021-03-14T10:38:39.491759Z"
    },
    "papermill": {
     "duration": 0.10306,
     "end_time": "2021-03-14T10:38:39.492809",
     "exception": false,
     "start_time": "2021-03-14T10:38:39.389749",
     "status": "completed"
    },
    "tags": []
   },
   "outputs": [],
   "source": [
    "file_path = 'Data_set/Fish.csv'\n",
    "fish = pd.read_csv(file_path)"
   ]
  },
  {
   "cell_type": "code",
   "execution_count": 3,
   "metadata": {
    "execution": {
     "iopub.execute_input": "2021-03-14T10:38:39.657863Z",
     "iopub.status.busy": "2021-03-14T10:38:39.657068Z",
     "iopub.status.idle": "2021-03-14T10:38:39.683647Z",
     "shell.execute_reply": "2021-03-14T10:38:39.682976Z"
    },
    "papermill": {
     "duration": 0.115518,
     "end_time": "2021-03-14T10:38:39.683796",
     "exception": false,
     "start_time": "2021-03-14T10:38:39.568278",
     "status": "completed"
    },
    "tags": []
   },
   "outputs": [
    {
     "data": {
      "text/html": [
       "<div>\n",
       "<style scoped>\n",
       "    .dataframe tbody tr th:only-of-type {\n",
       "        vertical-align: middle;\n",
       "    }\n",
       "\n",
       "    .dataframe tbody tr th {\n",
       "        vertical-align: top;\n",
       "    }\n",
       "\n",
       "    .dataframe thead th {\n",
       "        text-align: right;\n",
       "    }\n",
       "</style>\n",
       "<table border=\"1\" class=\"dataframe\">\n",
       "  <thead>\n",
       "    <tr style=\"text-align: right;\">\n",
       "      <th></th>\n",
       "      <th>Species</th>\n",
       "      <th>Weight</th>\n",
       "      <th>Length1</th>\n",
       "      <th>Length2</th>\n",
       "      <th>Length3</th>\n",
       "      <th>Height</th>\n",
       "      <th>Width</th>\n",
       "    </tr>\n",
       "  </thead>\n",
       "  <tbody>\n",
       "    <tr>\n",
       "      <th>0</th>\n",
       "      <td>Bream</td>\n",
       "      <td>242.0</td>\n",
       "      <td>23.2</td>\n",
       "      <td>25.4</td>\n",
       "      <td>30.0</td>\n",
       "      <td>11.5200</td>\n",
       "      <td>4.0200</td>\n",
       "    </tr>\n",
       "    <tr>\n",
       "      <th>1</th>\n",
       "      <td>Bream</td>\n",
       "      <td>290.0</td>\n",
       "      <td>24.0</td>\n",
       "      <td>26.3</td>\n",
       "      <td>31.2</td>\n",
       "      <td>12.4800</td>\n",
       "      <td>4.3056</td>\n",
       "    </tr>\n",
       "    <tr>\n",
       "      <th>2</th>\n",
       "      <td>Bream</td>\n",
       "      <td>340.0</td>\n",
       "      <td>23.9</td>\n",
       "      <td>26.5</td>\n",
       "      <td>31.1</td>\n",
       "      <td>12.3778</td>\n",
       "      <td>4.6961</td>\n",
       "    </tr>\n",
       "    <tr>\n",
       "      <th>3</th>\n",
       "      <td>Bream</td>\n",
       "      <td>363.0</td>\n",
       "      <td>26.3</td>\n",
       "      <td>29.0</td>\n",
       "      <td>33.5</td>\n",
       "      <td>12.7300</td>\n",
       "      <td>4.4555</td>\n",
       "    </tr>\n",
       "    <tr>\n",
       "      <th>4</th>\n",
       "      <td>Bream</td>\n",
       "      <td>430.0</td>\n",
       "      <td>26.5</td>\n",
       "      <td>29.0</td>\n",
       "      <td>34.0</td>\n",
       "      <td>12.4440</td>\n",
       "      <td>5.1340</td>\n",
       "    </tr>\n",
       "  </tbody>\n",
       "</table>\n",
       "</div>"
      ],
      "text/plain": [
       "  Species  Weight  Length1  Length2  Length3   Height   Width\n",
       "0   Bream   242.0     23.2     25.4     30.0  11.5200  4.0200\n",
       "1   Bream   290.0     24.0     26.3     31.2  12.4800  4.3056\n",
       "2   Bream   340.0     23.9     26.5     31.1  12.3778  4.6961\n",
       "3   Bream   363.0     26.3     29.0     33.5  12.7300  4.4555\n",
       "4   Bream   430.0     26.5     29.0     34.0  12.4440  5.1340"
      ]
     },
     "execution_count": 3,
     "metadata": {},
     "output_type": "execute_result"
    }
   ],
   "source": [
    "fish.head()"
   ]
  },
  {
   "cell_type": "code",
   "execution_count": 4,
   "metadata": {
    "execution": {
     "iopub.execute_input": "2021-03-14T10:38:39.837702Z",
     "iopub.status.busy": "2021-03-14T10:38:39.836954Z",
     "iopub.status.idle": "2021-03-14T10:38:39.841905Z",
     "shell.execute_reply": "2021-03-14T10:38:39.842431Z"
    },
    "papermill": {
     "duration": 0.083212,
     "end_time": "2021-03-14T10:38:39.842600",
     "exception": false,
     "start_time": "2021-03-14T10:38:39.759388",
     "status": "completed"
    },
    "tags": []
   },
   "outputs": [
    {
     "data": {
      "text/plain": [
       "(159, 7)"
      ]
     },
     "execution_count": 4,
     "metadata": {},
     "output_type": "execute_result"
    }
   ],
   "source": [
    "fish.shape"
   ]
  },
  {
   "cell_type": "markdown",
   "metadata": {
    "papermill": {
     "duration": 0.076141,
     "end_time": "2021-03-14T10:38:39.994390",
     "exception": false,
     "start_time": "2021-03-14T10:38:39.918249",
     "status": "completed"
    },
    "tags": []
   },
   "source": [
    "# 2. Data Exploration"
   ]
  },
  {
   "cell_type": "code",
   "execution_count": 5,
   "metadata": {
    "execution": {
     "iopub.execute_input": "2021-03-14T10:38:40.153933Z",
     "iopub.status.busy": "2021-03-14T10:38:40.153216Z",
     "iopub.status.idle": "2021-03-14T10:38:40.172890Z",
     "shell.execute_reply": "2021-03-14T10:38:40.172180Z"
    },
    "papermill": {
     "duration": 0.099705,
     "end_time": "2021-03-14T10:38:40.173043",
     "exception": false,
     "start_time": "2021-03-14T10:38:40.073338",
     "status": "completed"
    },
    "tags": []
   },
   "outputs": [
    {
     "name": "stdout",
     "output_type": "stream",
     "text": [
      "<class 'pandas.core.frame.DataFrame'>\n",
      "RangeIndex: 159 entries, 0 to 158\n",
      "Data columns (total 7 columns):\n",
      " #   Column   Non-Null Count  Dtype  \n",
      "---  ------   --------------  -----  \n",
      " 0   Species  159 non-null    object \n",
      " 1   Weight   159 non-null    float64\n",
      " 2   Length1  159 non-null    float64\n",
      " 3   Length2  159 non-null    float64\n",
      " 4   Length3  159 non-null    float64\n",
      " 5   Height   159 non-null    float64\n",
      " 6   Width    159 non-null    float64\n",
      "dtypes: float64(6), object(1)\n",
      "memory usage: 8.8+ KB\n"
     ]
    }
   ],
   "source": [
    "fish.info()"
   ]
  },
  {
   "cell_type": "markdown",
   "metadata": {
    "papermill": {
     "duration": 0.078581,
     "end_time": "2021-03-14T10:38:40.327677",
     "exception": false,
     "start_time": "2021-03-14T10:38:40.249096",
     "status": "completed"
    },
    "tags": []
   },
   "source": [
    "We have 6 columns in dataset. First '0' represents for fish species and the rest of columns are size-related data. \n",
    "\n",
    "According to the origin of data set;\n",
    "* Weight: weight of fish in Gram g\n",
    "* Length1: vertical length in cm\n",
    "* Length2: diagonal length in cm\n",
    "* Length3: cross length in cm\n",
    "* Height: height in cm\n",
    "* Width:diagonal width in cm\n",
    "\n",
    "Dont' worry. We won't use all of columns. Instead we will utilize 3 columns only for our conveniences."
   ]
  },
  {
   "cell_type": "code",
   "execution_count": 6,
   "metadata": {
    "execution": {
     "iopub.execute_input": "2021-03-14T10:38:40.485449Z",
     "iopub.status.busy": "2021-03-14T10:38:40.484809Z",
     "iopub.status.idle": "2021-03-14T10:38:40.512839Z",
     "shell.execute_reply": "2021-03-14T10:38:40.513417Z"
    },
    "papermill": {
     "duration": 0.107997,
     "end_time": "2021-03-14T10:38:40.513599",
     "exception": false,
     "start_time": "2021-03-14T10:38:40.405602",
     "status": "completed"
    },
    "tags": []
   },
   "outputs": [
    {
     "data": {
      "text/html": [
       "<div>\n",
       "<style scoped>\n",
       "    .dataframe tbody tr th:only-of-type {\n",
       "        vertical-align: middle;\n",
       "    }\n",
       "\n",
       "    .dataframe tbody tr th {\n",
       "        vertical-align: top;\n",
       "    }\n",
       "\n",
       "    .dataframe thead th {\n",
       "        text-align: right;\n",
       "    }\n",
       "</style>\n",
       "<table border=\"1\" class=\"dataframe\">\n",
       "  <thead>\n",
       "    <tr style=\"text-align: right;\">\n",
       "      <th></th>\n",
       "      <th>Weight</th>\n",
       "      <th>Length1</th>\n",
       "      <th>Length2</th>\n",
       "      <th>Length3</th>\n",
       "      <th>Height</th>\n",
       "      <th>Width</th>\n",
       "    </tr>\n",
       "  </thead>\n",
       "  <tbody>\n",
       "    <tr>\n",
       "      <th>count</th>\n",
       "      <td>159.000000</td>\n",
       "      <td>159.000000</td>\n",
       "      <td>159.000000</td>\n",
       "      <td>159.000000</td>\n",
       "      <td>159.000000</td>\n",
       "      <td>159.000000</td>\n",
       "    </tr>\n",
       "    <tr>\n",
       "      <th>mean</th>\n",
       "      <td>398.326415</td>\n",
       "      <td>26.247170</td>\n",
       "      <td>28.415723</td>\n",
       "      <td>31.227044</td>\n",
       "      <td>8.970994</td>\n",
       "      <td>4.417486</td>\n",
       "    </tr>\n",
       "    <tr>\n",
       "      <th>std</th>\n",
       "      <td>357.978317</td>\n",
       "      <td>9.996441</td>\n",
       "      <td>10.716328</td>\n",
       "      <td>11.610246</td>\n",
       "      <td>4.286208</td>\n",
       "      <td>1.685804</td>\n",
       "    </tr>\n",
       "    <tr>\n",
       "      <th>min</th>\n",
       "      <td>0.000000</td>\n",
       "      <td>7.500000</td>\n",
       "      <td>8.400000</td>\n",
       "      <td>8.800000</td>\n",
       "      <td>1.728400</td>\n",
       "      <td>1.047600</td>\n",
       "    </tr>\n",
       "    <tr>\n",
       "      <th>25%</th>\n",
       "      <td>120.000000</td>\n",
       "      <td>19.050000</td>\n",
       "      <td>21.000000</td>\n",
       "      <td>23.150000</td>\n",
       "      <td>5.944800</td>\n",
       "      <td>3.385650</td>\n",
       "    </tr>\n",
       "    <tr>\n",
       "      <th>50%</th>\n",
       "      <td>273.000000</td>\n",
       "      <td>25.200000</td>\n",
       "      <td>27.300000</td>\n",
       "      <td>29.400000</td>\n",
       "      <td>7.786000</td>\n",
       "      <td>4.248500</td>\n",
       "    </tr>\n",
       "    <tr>\n",
       "      <th>75%</th>\n",
       "      <td>650.000000</td>\n",
       "      <td>32.700000</td>\n",
       "      <td>35.500000</td>\n",
       "      <td>39.650000</td>\n",
       "      <td>12.365900</td>\n",
       "      <td>5.584500</td>\n",
       "    </tr>\n",
       "    <tr>\n",
       "      <th>max</th>\n",
       "      <td>1650.000000</td>\n",
       "      <td>59.000000</td>\n",
       "      <td>63.400000</td>\n",
       "      <td>68.000000</td>\n",
       "      <td>18.957000</td>\n",
       "      <td>8.142000</td>\n",
       "    </tr>\n",
       "  </tbody>\n",
       "</table>\n",
       "</div>"
      ],
      "text/plain": [
       "            Weight     Length1     Length2     Length3      Height       Width\n",
       "count   159.000000  159.000000  159.000000  159.000000  159.000000  159.000000\n",
       "mean    398.326415   26.247170   28.415723   31.227044    8.970994    4.417486\n",
       "std     357.978317    9.996441   10.716328   11.610246    4.286208    1.685804\n",
       "min       0.000000    7.500000    8.400000    8.800000    1.728400    1.047600\n",
       "25%     120.000000   19.050000   21.000000   23.150000    5.944800    3.385650\n",
       "50%     273.000000   25.200000   27.300000   29.400000    7.786000    4.248500\n",
       "75%     650.000000   32.700000   35.500000   39.650000   12.365900    5.584500\n",
       "max    1650.000000   59.000000   63.400000   68.000000   18.957000    8.142000"
      ]
     },
     "execution_count": 6,
     "metadata": {},
     "output_type": "execute_result"
    }
   ],
   "source": [
    "fish.describe()"
   ]
  },
  {
   "cell_type": "code",
   "execution_count": 7,
   "metadata": {
    "execution": {
     "iopub.execute_input": "2021-03-14T10:38:40.671191Z",
     "iopub.status.busy": "2021-03-14T10:38:40.670509Z",
     "iopub.status.idle": "2021-03-14T10:38:41.557359Z",
     "shell.execute_reply": "2021-03-14T10:38:41.557913Z"
    },
    "papermill": {
     "duration": 0.966898,
     "end_time": "2021-03-14T10:38:41.558095",
     "exception": false,
     "start_time": "2021-03-14T10:38:40.591197",
     "status": "completed"
    },
    "tags": []
   },
   "outputs": [
    {
     "data": {
      "image/png": "[encoded data removed]",
      "text/plain": [
       "<Figure size 1440x288 with 6 Axes>"
      ]
     },
     "metadata": {
      "needs_background": "light"
     },
     "output_type": "display_data"
    }
   ],
   "source": [
    "fig, ax = plt.subplots(ncols=6, figsize=(20, 4))\n",
    "\n",
    "variables = fish.columns[1:]\n",
    "for i, var in enumerate(variables):\n",
    "    sns.histplot(data=fish, x=var, ax=ax[i])\n",
    "plt.show()"
   ]
  },
  {
   "cell_type": "code",
   "execution_count": 8,
   "metadata": {
    "execution": {
     "iopub.execute_input": "2021-03-14T10:38:41.723312Z",
     "iopub.status.busy": "2021-03-14T10:38:41.722345Z",
     "iopub.status.idle": "2021-03-14T10:38:41.726991Z",
     "shell.execute_reply": "2021-03-14T10:38:41.727499Z"
    },
    "papermill": {
     "duration": 0.091912,
     "end_time": "2021-03-14T10:38:41.727728",
     "exception": false,
     "start_time": "2021-03-14T10:38:41.635816",
     "status": "completed"
    },
    "tags": []
   },
   "outputs": [
    {
     "data": {
      "text/plain": [
       "Perch        56\n",
       "Bream        35\n",
       "Roach        20\n",
       "Pike         17\n",
       "Smelt        14\n",
       "Parkki       11\n",
       "Whitefish     6\n",
       "Name: Species, dtype: int64"
      ]
     },
     "execution_count": 8,
     "metadata": {},
     "output_type": "execute_result"
    }
   ],
   "source": [
    "fish['Species'].value_counts()"
   ]
  },
  {
   "cell_type": "markdown",
   "metadata": {
    "papermill": {
     "duration": 0.078943,
     "end_time": "2021-03-14T10:38:41.885177",
     "exception": false,
     "start_time": "2021-03-14T10:38:41.806234",
     "status": "completed"
    },
    "tags": []
   },
   "source": [
    "As for Species, the dataset includes 7 types of fishes. \n",
    "\n",
    "Since this notebook is aiming for classification, I would like to use only Bream and Smelt only. "
   ]
  },
  {
   "cell_type": "markdown",
   "metadata": {
    "papermill": {
     "duration": 0.078105,
     "end_time": "2021-03-14T10:38:42.041446",
     "exception": false,
     "start_time": "2021-03-14T10:38:41.963341",
     "status": "completed"
    },
    "tags": []
   },
   "source": [
    "If you are curious about how these look like, Bream looks like below. They tend to be narrow, deep-bodied species. The name is a derivation of the Middle English word breme, of Old French origin. [Refer to Wikipedia](https://en.wikipedia.org/wiki/Bream)\n",
    "<img src=\"https://www.sydneyfishmarket.com.au/Portals/0/EasyDNNnews/1256/img-Yellowfin-Bream.jpg\" width=400>\n",
    "\n",
    "And this is Smelt. Smelts are a family of small fish, the Osmeridae, found in the North Atlantic and North Pacific Oceans, as well as rivers, streams and lakes in Europe, North America and Northeast Asia. [Refer to Wikipedia](https://en.wikipedia.org/wiki/Smelt_(fish))\n",
    "<img src=\"https://images.squarespace-cdn.com/content/v1/5b071ddea2772cebc1662831/1530230170490-EKRCLOAKTK4639KO4E7M/ke17ZwdGBToddI8pDm48kInjuZb3CAvjvvi6Jf3mnjlZw-zPPgdn4jUwVcJE1ZvWQUxwkmyExglNqGp0IvTJZUJFbgE-7XRK3dMEBRBhUpx1viaq3v9Yxb9vhtvLFNwfo7-TXC8LW2F3Zy1D3lO8ahVwA8sicxz2pgFIqMhGFmM/smelt6.jpg\" width=400>"
   ]
  },
  {
   "cell_type": "markdown",
   "metadata": {
    "papermill": {
     "duration": 0.07782,
     "end_time": "2021-03-14T10:38:42.198240",
     "exception": false,
     "start_time": "2021-03-14T10:38:42.120420",
     "status": "completed"
    },
    "tags": []
   },
   "source": [
    "## Bream & Smelt selection"
   ]
  },
  {
   "cell_type": "code",
   "execution_count": 9,
   "metadata": {
    "execution": {
     "iopub.execute_input": "2021-03-14T10:38:42.363197Z",
     "iopub.status.busy": "2021-03-14T10:38:42.362312Z",
     "iopub.status.idle": "2021-03-14T10:38:42.366437Z",
     "shell.execute_reply": "2021-03-14T10:38:42.365375Z"
    },
    "papermill": {
     "duration": 0.090307,
     "end_time": "2021-03-14T10:38:42.366799",
     "exception": false,
     "start_time": "2021-03-14T10:38:42.276492",
     "status": "completed"
    },
    "tags": []
   },
   "outputs": [
    {
     "name": "stdout",
     "output_type": "stream",
     "text": [
      "# of Breams in datasets are 35\n"
     ]
    }
   ],
   "source": [
    "bream = fish[fish['Species'] == 'Bream']\n",
    "num_bream = len(bream)\n",
    "print(\"# of Breams in datasets are\", num_bream)"
   ]
  },
  {
   "cell_type": "code",
   "execution_count": 10,
   "metadata": {
    "execution": {
     "iopub.execute_input": "2021-03-14T10:38:42.532875Z",
     "iopub.status.busy": "2021-03-14T10:38:42.531864Z",
     "iopub.status.idle": "2021-03-14T10:38:42.534849Z",
     "shell.execute_reply": "2021-03-14T10:38:42.535404Z"
    },
    "papermill": {
     "duration": 0.087544,
     "end_time": "2021-03-14T10:38:42.535581",
     "exception": false,
     "start_time": "2021-03-14T10:38:42.448037",
     "status": "completed"
    },
    "tags": []
   },
   "outputs": [],
   "source": [
    "bream_weight = bream['Weight'].values\n",
    "bream_length = bream['Length2'].values"
   ]
  },
  {
   "cell_type": "code",
   "execution_count": 11,
   "metadata": {
    "execution": {
     "iopub.execute_input": "2021-03-14T10:38:42.699217Z",
     "iopub.status.busy": "2021-03-14T10:38:42.698162Z",
     "iopub.status.idle": "2021-03-14T10:38:42.702123Z",
     "shell.execute_reply": "2021-03-14T10:38:42.702751Z"
    },
    "papermill": {
     "duration": 0.088776,
     "end_time": "2021-03-14T10:38:42.702922",
     "exception": false,
     "start_time": "2021-03-14T10:38:42.614146",
     "status": "completed"
    },
    "tags": []
   },
   "outputs": [
    {
     "data": {
      "text/plain": [
       "array([ 242.,  290.,  340.,  363.,  430.,  450.,  500.,  390.,  450.,\n",
       "        500.,  475.,  500.,  500.,  340.,  600.,  600.,  700.,  700.,\n",
       "        610.,  650.,  575.,  685.,  620.,  680.,  700.,  725.,  720.,\n",
       "        714.,  850., 1000.,  920.,  955.,  925.,  975.,  950.])"
      ]
     },
     "execution_count": 11,
     "metadata": {},
     "output_type": "execute_result"
    }
   ],
   "source": [
    "bream_weight"
   ]
  },
  {
   "cell_type": "code",
   "execution_count": 12,
   "metadata": {
    "execution": {
     "iopub.execute_input": "2021-03-14T10:38:42.867119Z",
     "iopub.status.busy": "2021-03-14T10:38:42.866082Z",
     "iopub.status.idle": "2021-03-14T10:38:42.872279Z",
     "shell.execute_reply": "2021-03-14T10:38:42.872887Z"
    },
    "papermill": {
     "duration": 0.09081,
     "end_time": "2021-03-14T10:38:42.873063",
     "exception": false,
     "start_time": "2021-03-14T10:38:42.782253",
     "status": "completed"
    },
    "tags": []
   },
   "outputs": [
    {
     "data": {
      "text/plain": [
       "array([25.4, 26.3, 26.5, 29. , 29. , 29.7, 29.7, 30. , 30. , 30.7, 31. ,\n",
       "       31. , 31.5, 32. , 32. , 32. , 33. , 33. , 33.5, 33.5, 34. , 34. ,\n",
       "       34.5, 35. , 35. , 35. , 35. , 36. , 36. , 37. , 38.5, 38.5, 39.5,\n",
       "       41. , 41. ])"
      ]
     },
     "execution_count": 12,
     "metadata": {},
     "output_type": "execute_result"
    }
   ],
   "source": [
    "bream_length"
   ]
  },
  {
   "cell_type": "code",
   "execution_count": 13,
   "metadata": {
    "execution": {
     "iopub.execute_input": "2021-03-14T10:38:43.040489Z",
     "iopub.status.busy": "2021-03-14T10:38:43.039448Z",
     "iopub.status.idle": "2021-03-14T10:38:43.047229Z",
     "shell.execute_reply": "2021-03-14T10:38:43.047901Z"
    },
    "papermill": {
     "duration": 0.093061,
     "end_time": "2021-03-14T10:38:43.048080",
     "exception": false,
     "start_time": "2021-03-14T10:38:42.955019",
     "status": "completed"
    },
    "tags": []
   },
   "outputs": [
    {
     "name": "stdout",
     "output_type": "stream",
     "text": [
      "# of Smelts in datasets are 14\n"
     ]
    }
   ],
   "source": [
    "smelt = fish[fish['Species'] == 'Smelt']\n",
    "num_smelt = len(smelt)\n",
    "print(\"# of Smelts in datasets are\",num_smelt)"
   ]
  },
  {
   "cell_type": "code",
   "execution_count": 14,
   "metadata": {
    "execution": {
     "iopub.execute_input": "2021-03-14T10:38:43.216193Z",
     "iopub.status.busy": "2021-03-14T10:38:43.215526Z",
     "iopub.status.idle": "2021-03-14T10:38:43.218810Z",
     "shell.execute_reply": "2021-03-14T10:38:43.219290Z"
    },
    "papermill": {
     "duration": 0.088892,
     "end_time": "2021-03-14T10:38:43.219469",
     "exception": false,
     "start_time": "2021-03-14T10:38:43.130577",
     "status": "completed"
    },
    "tags": []
   },
   "outputs": [],
   "source": [
    "smelt_weight = smelt['Weight']\n",
    "smelt_length = smelt['Length2']"
   ]
  },
  {
   "cell_type": "code",
   "execution_count": 15,
   "metadata": {
    "execution": {
     "iopub.execute_input": "2021-03-14T10:38:43.442123Z",
     "iopub.status.busy": "2021-03-14T10:38:43.441293Z",
     "iopub.status.idle": "2021-03-14T10:38:43.444658Z",
     "shell.execute_reply": "2021-03-14T10:38:43.445216Z"
    },
    "papermill": {
     "duration": 0.144842,
     "end_time": "2021-03-14T10:38:43.445402",
     "exception": false,
     "start_time": "2021-03-14T10:38:43.300560",
     "status": "completed"
    },
    "tags": []
   },
   "outputs": [
    {
     "data": {
      "text/plain": [
       "145     6.7\n",
       "146     7.5\n",
       "147     7.0\n",
       "148     9.7\n",
       "149     9.8\n",
       "150     8.7\n",
       "151    10.0\n",
       "152     9.9\n",
       "153     9.8\n",
       "154    12.2\n",
       "155    13.4\n",
       "156    12.2\n",
       "157    19.7\n",
       "158    19.9\n",
       "Name: Weight, dtype: float64"
      ]
     },
     "execution_count": 15,
     "metadata": {},
     "output_type": "execute_result"
    }
   ],
   "source": [
    "smelt_weight"
   ]
  },
  {
   "cell_type": "code",
   "execution_count": 16,
   "metadata": {
    "execution": {
     "iopub.execute_input": "2021-03-14T10:38:43.615217Z",
     "iopub.status.busy": "2021-03-14T10:38:43.614467Z",
     "iopub.status.idle": "2021-03-14T10:38:43.617968Z",
     "shell.execute_reply": "2021-03-14T10:38:43.618445Z"
    },
    "papermill": {
     "duration": 0.092404,
     "end_time": "2021-03-14T10:38:43.618642",
     "exception": false,
     "start_time": "2021-03-14T10:38:43.526238",
     "status": "completed"
    },
    "tags": []
   },
   "outputs": [
    {
     "data": {
      "text/plain": [
       "145     9.8\n",
       "146    10.5\n",
       "147    10.6\n",
       "148    11.0\n",
       "149    11.2\n",
       "150    11.3\n",
       "151    11.8\n",
       "152    11.8\n",
       "153    12.0\n",
       "154    12.2\n",
       "155    12.4\n",
       "156    13.0\n",
       "157    14.3\n",
       "158    15.0\n",
       "Name: Length2, dtype: float64"
      ]
     },
     "execution_count": 16,
     "metadata": {},
     "output_type": "execute_result"
    }
   ],
   "source": [
    "smelt_length"
   ]
  },
  {
   "cell_type": "markdown",
   "metadata": {
    "papermill": {
     "duration": 0.080559,
     "end_time": "2021-03-14T10:38:43.780503",
     "exception": false,
     "start_time": "2021-03-14T10:38:43.699944",
     "status": "completed"
    },
    "tags": []
   },
   "source": [
    "Having said, they are diffred by its size. Let's plot them by data and check. "
   ]
  },
  {
   "cell_type": "code",
   "execution_count": 17,
   "metadata": {
    "execution": {
     "iopub.execute_input": "2021-03-14T10:38:43.946173Z",
     "iopub.status.busy": "2021-03-14T10:38:43.945524Z",
     "iopub.status.idle": "2021-03-14T10:38:44.161377Z",
     "shell.execute_reply": "2021-03-14T10:38:44.160862Z"
    },
    "papermill": {
     "duration": 0.299801,
     "end_time": "2021-03-14T10:38:44.161524",
     "exception": false,
     "start_time": "2021-03-14T10:38:43.861723",
     "status": "completed"
    },
    "tags": []
   },
   "outputs": [
    {
     "data": {
      "image/png": "[encoded data removed]",
      "text/plain": [
       "<Figure size 432x288 with 1 Axes>"
      ]
     },
     "metadata": {
      "needs_background": "light"
     },
     "output_type": "display_data"
    }
   ],
   "source": [
    "plt.scatter(bream_length, bream_weight, label='Bream')\n",
    "plt.scatter(smelt_length, smelt_weight, label='Smelt')\n",
    "\n",
    "plt.legend()\n",
    "plt.xlabel('Length (cm)')\n",
    "plt.ylabel('Weight (g)')\n",
    "plt.show()\n"
   ]
  },
  {
   "cell_type": "markdown",
   "metadata": {
    "papermill": {
     "duration": 0.083164,
     "end_time": "2021-03-14T10:38:44.327158",
     "exception": false,
     "start_time": "2021-03-14T10:38:44.243994",
     "status": "completed"
    },
    "tags": []
   },
   "source": [
    "Among 49 fishes above, 14 smelts are located left bottom and 35 breams are right above. \n",
    "\n",
    "Data is ready now. We can fit the model for the classification with the data."
   ]
  },
  {
   "cell_type": "markdown",
   "metadata": {
    "papermill": {
     "duration": 0.095568,
     "end_time": "2021-03-14T10:38:44.513277",
     "exception": false,
     "start_time": "2021-03-14T10:38:44.417709",
     "status": "completed"
    },
    "tags": []
   },
   "source": [
    "# 3. Model Fitting and Training"
   ]
  },
  {
   "cell_type": "markdown",
   "metadata": {
    "papermill": {
     "duration": 0.095573,
     "end_time": "2021-03-14T10:38:44.702852",
     "exception": false,
     "start_time": "2021-03-14T10:38:44.607279",
     "status": "completed"
    },
    "tags": []
   },
   "source": [
    "To fit the model, we need them in array. Since this is begginer tutorial, we will use only weight and length data sets for our convenience. \n",
    "\n",
    "As independant variables, weight and length will be used while Species labeled will be used for dependant variable. "
   ]
  },
  {
   "cell_type": "code",
   "execution_count": 18,
   "metadata": {
    "execution": {
     "iopub.execute_input": "2021-03-14T10:38:44.873999Z",
     "iopub.status.busy": "2021-03-14T10:38:44.872527Z",
     "iopub.status.idle": "2021-03-14T10:38:44.881323Z",
     "shell.execute_reply": "2021-03-14T10:38:44.882209Z"
    },
    "papermill": {
     "duration": 0.095561,
     "end_time": "2021-03-14T10:38:44.882384",
     "exception": false,
     "start_time": "2021-03-14T10:38:44.786823",
     "status": "completed"
    },
    "tags": []
   },
   "outputs": [
    {
     "data": {
      "text/plain": [
       "35"
      ]
     },
     "execution_count": 18,
     "metadata": {},
     "output_type": "execute_result"
    }
   ],
   "source": [
    "bream_data = np.c_[bream_weight, bream_length]\n",
    "len(bream_data)"
   ]
  },
  {
   "cell_type": "code",
   "execution_count": 19,
   "metadata": {
    "execution": {
     "iopub.execute_input": "2021-03-14T10:38:45.055913Z",
     "iopub.status.busy": "2021-03-14T10:38:45.055001Z",
     "iopub.status.idle": "2021-03-14T10:38:45.059029Z",
     "shell.execute_reply": "2021-03-14T10:38:45.059710Z"
    },
    "papermill": {
     "duration": 0.094369,
     "end_time": "2021-03-14T10:38:45.059900",
     "exception": false,
     "start_time": "2021-03-14T10:38:44.965531",
     "status": "completed"
    },
    "tags": []
   },
   "outputs": [
    {
     "data": {
      "text/plain": [
       "array([[242. ,  25.4],\n",
       "       [290. ,  26.3],\n",
       "       [340. ,  26.5],\n",
       "       [363. ,  29. ],\n",
       "       [430. ,  29. ]])"
      ]
     },
     "execution_count": 19,
     "metadata": {},
     "output_type": "execute_result"
    }
   ],
   "source": [
    "bream_data[:5]"
   ]
  },
  {
   "cell_type": "code",
   "execution_count": 20,
   "metadata": {
    "execution": {
     "iopub.execute_input": "2021-03-14T10:38:45.238841Z",
     "iopub.status.busy": "2021-03-14T10:38:45.237846Z",
     "iopub.status.idle": "2021-03-14T10:38:45.244028Z",
     "shell.execute_reply": "2021-03-14T10:38:45.244723Z"
    },
    "papermill": {
     "duration": 0.098602,
     "end_time": "2021-03-14T10:38:45.244907",
     "exception": false,
     "start_time": "2021-03-14T10:38:45.146305",
     "status": "completed"
    },
    "tags": []
   },
   "outputs": [
    {
     "data": {
      "text/plain": [
       "array([[920. ,  38.5],\n",
       "       [955. ,  38.5],\n",
       "       [925. ,  39.5],\n",
       "       [975. ,  41. ],\n",
       "       [950. ,  41. ]])"
      ]
     },
     "execution_count": 20,
     "metadata": {},
     "output_type": "execute_result"
    }
   ],
   "source": [
    "bream_data[-5:]"
   ]
  },
  {
   "cell_type": "code",
   "execution_count": 21,
   "metadata": {
    "execution": {
     "iopub.execute_input": "2021-03-14T10:38:45.417827Z",
     "iopub.status.busy": "2021-03-14T10:38:45.416862Z",
     "iopub.status.idle": "2021-03-14T10:38:45.422858Z",
     "shell.execute_reply": "2021-03-14T10:38:45.423404Z"
    },
    "papermill": {
     "duration": 0.093057,
     "end_time": "2021-03-14T10:38:45.423576",
     "exception": false,
     "start_time": "2021-03-14T10:38:45.330519",
     "status": "completed"
    },
    "tags": []
   },
   "outputs": [
    {
     "data": {
      "text/plain": [
       "14"
      ]
     },
     "execution_count": 21,
     "metadata": {},
     "output_type": "execute_result"
    }
   ],
   "source": [
    "smelt_data = np.c_[smelt_weight, smelt_length]\n",
    "len(smelt_data)"
   ]
  },
  {
   "cell_type": "code",
   "execution_count": 22,
   "metadata": {
    "execution": {
     "iopub.execute_input": "2021-03-14T10:38:45.598230Z",
     "iopub.status.busy": "2021-03-14T10:38:45.597248Z",
     "iopub.status.idle": "2021-03-14T10:38:45.603426Z",
     "shell.execute_reply": "2021-03-14T10:38:45.604053Z"
    },
    "papermill": {
     "duration": 0.095126,
     "end_time": "2021-03-14T10:38:45.604229",
     "exception": false,
     "start_time": "2021-03-14T10:38:45.509103",
     "status": "completed"
    },
    "tags": []
   },
   "outputs": [
    {
     "data": {
      "text/plain": [
       "array([[ 6.7,  9.8],\n",
       "       [ 7.5, 10.5],\n",
       "       [ 7. , 10.6],\n",
       "       [ 9.7, 11. ],\n",
       "       [ 9.8, 11.2]])"
      ]
     },
     "execution_count": 22,
     "metadata": {},
     "output_type": "execute_result"
    }
   ],
   "source": [
    "smelt_data[:5]"
   ]
  },
  {
   "cell_type": "code",
   "execution_count": 23,
   "metadata": {
    "execution": {
     "iopub.execute_input": "2021-03-14T10:38:45.777731Z",
     "iopub.status.busy": "2021-03-14T10:38:45.776764Z",
     "iopub.status.idle": "2021-03-14T10:38:45.782507Z",
     "shell.execute_reply": "2021-03-14T10:38:45.783121Z"
    },
    "papermill": {
     "duration": 0.094711,
     "end_time": "2021-03-14T10:38:45.783293",
     "exception": false,
     "start_time": "2021-03-14T10:38:45.688582",
     "status": "completed"
    },
    "tags": []
   },
   "outputs": [
    {
     "data": {
      "text/plain": [
       "49"
      ]
     },
     "execution_count": 23,
     "metadata": {},
     "output_type": "execute_result"
    }
   ],
   "source": [
    "fish_data = np.r_[bream_data, smelt_data]\n",
    "len(fish_data)"
   ]
  },
  {
   "cell_type": "code",
   "execution_count": 24,
   "metadata": {
    "execution": {
     "iopub.execute_input": "2021-03-14T10:38:45.958137Z",
     "iopub.status.busy": "2021-03-14T10:38:45.957167Z",
     "iopub.status.idle": "2021-03-14T10:38:45.963994Z",
     "shell.execute_reply": "2021-03-14T10:38:45.963349Z"
    },
    "papermill": {
     "duration": 0.094725,
     "end_time": "2021-03-14T10:38:45.964136",
     "exception": false,
     "start_time": "2021-03-14T10:38:45.869411",
     "status": "completed"
    },
    "tags": []
   },
   "outputs": [
    {
     "data": {
      "text/plain": [
       "array([[242. ,  25.4],\n",
       "       [290. ,  26.3],\n",
       "       [340. ,  26.5],\n",
       "       [363. ,  29. ],\n",
       "       [430. ,  29. ]])"
      ]
     },
     "execution_count": 24,
     "metadata": {},
     "output_type": "execute_result"
    }
   ],
   "source": [
    "fish_data[:5]"
   ]
  },
  {
   "cell_type": "code",
   "execution_count": 25,
   "metadata": {
    "execution": {
     "iopub.execute_input": "2021-03-14T10:38:46.145472Z",
     "iopub.status.busy": "2021-03-14T10:38:46.144751Z",
     "iopub.status.idle": "2021-03-14T10:38:46.149341Z",
     "shell.execute_reply": "2021-03-14T10:38:46.148674Z"
    },
    "papermill": {
     "duration": 0.098722,
     "end_time": "2021-03-14T10:38:46.149487",
     "exception": false,
     "start_time": "2021-03-14T10:38:46.050765",
     "status": "completed"
    },
    "tags": []
   },
   "outputs": [
    {
     "data": {
      "text/plain": [
       "array([1, 1, 1, 1, 1, 1, 1, 1, 1, 1, 1, 1, 1, 1, 1, 1, 1, 1, 1, 1, 1, 1,\n",
       "       1, 1, 1, 1, 1, 1, 1, 1, 1, 1, 1, 1, 1, 0, 0, 0, 0, 0, 0, 0, 0, 0,\n",
       "       0, 0, 0, 0, 0])"
      ]
     },
     "execution_count": 25,
     "metadata": {},
     "output_type": "execute_result"
    }
   ],
   "source": [
    "fish_label = np.array([1] * num_bream + [0] * num_smelt)\n",
    "fish_label"
   ]
  },
  {
   "cell_type": "markdown",
   "metadata": {
    "papermill": {
     "duration": 0.085427,
     "end_time": "2021-03-14T10:38:46.320919",
     "exception": false,
     "start_time": "2021-03-14T10:38:46.235492",
     "status": "completed"
    },
    "tags": []
   },
   "source": [
    "## Model selection"
   ]
  },
  {
   "cell_type": "markdown",
   "metadata": {
    "papermill": {
     "duration": 0.085141,
     "end_time": "2021-03-14T10:38:46.491931",
     "exception": false,
     "start_time": "2021-03-14T10:38:46.406790",
     "status": "completed"
    },
    "tags": []
   },
   "source": [
    "[**_k-nearest neighbors algorithm_**](https://en.wikipedia.org/wiki/K-nearest_neighbors_algorithm) is used for classification and regression. In both cases, the input consists of the k closest training examples in data set. The output depends on whether k-NN is used for classification or regression.\n",
    "\n",
    "<img src=\"https://miro.medium.com/max/800/1*2zYNhLc522h0zftD1zDh2g.png\" width=500 align='left'>\n",
    "\n",
    "> Since this algorithm relies on distance for classification, **_if the features represent different physical units or come in vastly different scales then normalizing the training data can improve its accuracy dramatically._**\n",
    "\n",
    "> AS this physical unit is so important, I would like to show step by step how this affects the output.  \n",
    "\n",
    "> The neighbors are taken from a set of objects for which the class (for k-NN classification) or the object property value (for k-NN regression) is known. This can be thought of as the training set for the algorithm, though no explicit training step is required.\n",
    "\n",
    "> A peculiarity of the k-NN algorithm is that it is sensitive to the local structure of the data."
   ]
  },
  {
   "cell_type": "code",
   "execution_count": 26,
   "metadata": {
    "execution": {
     "iopub.execute_input": "2021-03-14T10:38:46.668220Z",
     "iopub.status.busy": "2021-03-14T10:38:46.667548Z",
     "iopub.status.idle": "2021-03-14T10:38:46.671389Z",
     "shell.execute_reply": "2021-03-14T10:38:46.670877Z"
    },
    "papermill": {
     "duration": 0.094286,
     "end_time": "2021-03-14T10:38:46.671537",
     "exception": false,
     "start_time": "2021-03-14T10:38:46.577251",
     "status": "completed"
    },
    "tags": []
   },
   "outputs": [],
   "source": [
    "knn_clf = KNeighborsClassifier() "
   ]
  },
  {
   "cell_type": "code",
   "execution_count": 27,
   "metadata": {
    "execution": {
     "iopub.execute_input": "2021-03-14T10:38:46.849822Z",
     "iopub.status.busy": "2021-03-14T10:38:46.848574Z",
     "iopub.status.idle": "2021-03-14T10:38:46.861083Z",
     "shell.execute_reply": "2021-03-14T10:38:46.860387Z"
    },
    "papermill": {
     "duration": 0.103568,
     "end_time": "2021-03-14T10:38:46.861241",
     "exception": false,
     "start_time": "2021-03-14T10:38:46.757673",
     "status": "completed"
    },
    "tags": []
   },
   "outputs": [
    {
     "data": {
      "text/plain": [
       "KNeighborsClassifier()"
      ]
     },
     "execution_count": 27,
     "metadata": {},
     "output_type": "execute_result"
    }
   ],
   "source": [
    "knn_clf.fit(X=fish_data, y=fish_label)"
   ]
  },
  {
   "cell_type": "code",
   "execution_count": 28,
   "metadata": {
    "execution": {
     "iopub.execute_input": "2021-03-14T10:38:47.040158Z",
     "iopub.status.busy": "2021-03-14T10:38:47.039166Z",
     "iopub.status.idle": "2021-03-14T10:38:47.049081Z",
     "shell.execute_reply": "2021-03-14T10:38:47.050043Z"
    },
    "papermill": {
     "duration": 0.102439,
     "end_time": "2021-03-14T10:38:47.050272",
     "exception": false,
     "start_time": "2021-03-14T10:38:46.947833",
     "status": "completed"
    },
    "tags": []
   },
   "outputs": [
    {
     "data": {
      "text/plain": [
       "array([[242. ,  25.4],\n",
       "       [290. ,  26.3],\n",
       "       [340. ,  26.5],\n",
       "       [363. ,  29. ],\n",
       "       [430. ,  29. ]])"
      ]
     },
     "execution_count": 28,
     "metadata": {},
     "output_type": "execute_result"
    }
   ],
   "source": [
    "knn_clf._fit_X[:5]"
   ]
  },
  {
   "cell_type": "code",
   "execution_count": 29,
   "metadata": {
    "execution": {
     "iopub.execute_input": "2021-03-14T10:38:47.228074Z",
     "iopub.status.busy": "2021-03-14T10:38:47.227342Z",
     "iopub.status.idle": "2021-03-14T10:38:47.234692Z",
     "shell.execute_reply": "2021-03-14T10:38:47.234138Z"
    },
    "papermill": {
     "duration": 0.097314,
     "end_time": "2021-03-14T10:38:47.234847",
     "exception": false,
     "start_time": "2021-03-14T10:38:47.137533",
     "status": "completed"
    },
    "tags": []
   },
   "outputs": [
    {
     "data": {
      "text/plain": [
       "array([1, 1, 1, 1, 1, 1, 1, 1, 1, 1, 1, 1, 1, 1, 1, 1, 1, 1, 1, 1, 1, 1,\n",
       "       1, 1, 1, 1, 1, 1, 1, 1, 1, 1, 1, 1, 1, 0, 0, 0, 0, 0, 0, 0, 0, 0,\n",
       "       0, 0, 0, 0, 0])"
      ]
     },
     "execution_count": 29,
     "metadata": {},
     "output_type": "execute_result"
    }
   ],
   "source": [
    "knn_clf._y"
   ]
  },
  {
   "cell_type": "markdown",
   "metadata": {
    "papermill": {
     "duration": 0.086667,
     "end_time": "2021-03-14T10:38:47.409383",
     "exception": false,
     "start_time": "2021-03-14T10:38:47.322716",
     "status": "completed"
    },
    "tags": []
   },
   "source": [
    "Draft fitting model is done now. We can test and adjust them. "
   ]
  },
  {
   "cell_type": "markdown",
   "metadata": {
    "papermill": {
     "duration": 0.088088,
     "end_time": "2021-03-14T10:38:47.584959",
     "exception": false,
     "start_time": "2021-03-14T10:38:47.496871",
     "status": "completed"
    },
    "tags": []
   },
   "source": [
    "## Model Evaluation"
   ]
  },
  {
   "cell_type": "markdown",
   "metadata": {
    "papermill": {
     "duration": 0.086791,
     "end_time": "2021-03-14T10:38:47.759133",
     "exception": false,
     "start_time": "2021-03-14T10:38:47.672342",
     "status": "completed"
    },
    "tags": []
   },
   "source": [
    "### **Performance Measure**\n",
    "\n",
    "<img src='https://static.packt-cdn.com/products/9781838555078/graphics/C13314_06_05.jpg' width=500>\n",
    "\n",
    "\n",
    "* Accuracy: Classification accuracy is the total number of correct predictions divided by the total number of predictions made for a dataset\n",
    "> `accuracy = (TN + TP) / (TN + FP + FN + TP)`\n",
    "\n",
    "* Precision : Precision quantifies the number of positive class predictions that actually belong to the positive class\n",
    "> `precision = TP / (FP + TP)`\n",
    "\n",
    "* Recall: Recall quantifies the number of positive class predictions made out of all positive examples in the dataset.\n",
    "> `recall = TP / (FN + TP)`\n",
    "\n",
    "* F1-score: F-Measure provides a single score that balances both the concerns of precision and recall in one number.\n",
    "> `f1 = 2 / (1/precision + 1/recall)`"
   ]
  },
  {
   "cell_type": "code",
   "execution_count": 30,
   "metadata": {
    "execution": {
     "iopub.execute_input": "2021-03-14T10:38:47.943590Z",
     "iopub.status.busy": "2021-03-14T10:38:47.942914Z",
     "iopub.status.idle": "2021-03-14T10:38:47.949505Z",
     "shell.execute_reply": "2021-03-14T10:38:47.950006Z"
    },
    "papermill": {
     "duration": 0.103108,
     "end_time": "2021-03-14T10:38:47.950193",
     "exception": false,
     "start_time": "2021-03-14T10:38:47.847085",
     "status": "completed"
    },
    "tags": []
   },
   "outputs": [
    {
     "data": {
      "text/plain": [
       "array([1, 1, 1, 1, 1, 1, 1, 1, 1, 1, 1, 1, 1, 1, 1, 1, 1, 1, 1, 1, 1, 1,\n",
       "       1, 1, 1, 1, 1, 1, 1, 1, 1, 1, 1, 1, 1, 0, 0, 0, 0, 0, 0, 0, 0, 0,\n",
       "       0, 0, 0, 0, 0])"
      ]
     },
     "execution_count": 30,
     "metadata": {},
     "output_type": "execute_result"
    }
   ],
   "source": [
    "train_predicts = knn_clf.predict(fish_data)\n",
    "train_predicts"
   ]
  },
  {
   "cell_type": "code",
   "execution_count": 31,
   "metadata": {
    "execution": {
     "iopub.execute_input": "2021-03-14T10:38:48.133850Z",
     "iopub.status.busy": "2021-03-14T10:38:48.133142Z",
     "iopub.status.idle": "2021-03-14T10:38:48.139348Z",
     "shell.execute_reply": "2021-03-14T10:38:48.138706Z"
    },
    "papermill": {
     "duration": 0.100211,
     "end_time": "2021-03-14T10:38:48.139494",
     "exception": false,
     "start_time": "2021-03-14T10:38:48.039283",
     "status": "completed"
    },
    "tags": []
   },
   "outputs": [
    {
     "data": {
      "text/plain": [
       "1.0"
      ]
     },
     "execution_count": 31,
     "metadata": {},
     "output_type": "execute_result"
    }
   ],
   "source": [
    "np.mean(train_predicts == fish_label)"
   ]
  },
  {
   "cell_type": "code",
   "execution_count": 32,
   "metadata": {
    "execution": {
     "iopub.execute_input": "2021-03-14T10:38:48.323875Z",
     "iopub.status.busy": "2021-03-14T10:38:48.323105Z",
     "iopub.status.idle": "2021-03-14T10:38:48.331183Z",
     "shell.execute_reply": "2021-03-14T10:38:48.330653Z"
    },
    "papermill": {
     "duration": 0.102792,
     "end_time": "2021-03-14T10:38:48.331337",
     "exception": false,
     "start_time": "2021-03-14T10:38:48.228545",
     "status": "completed"
    },
    "tags": []
   },
   "outputs": [
    {
     "data": {
      "text/plain": [
       "1.0"
      ]
     },
     "execution_count": 32,
     "metadata": {},
     "output_type": "execute_result"
    }
   ],
   "source": [
    "knn_clf.score(X=fish_data, y=fish_label)"
   ]
  },
  {
   "cell_type": "code",
   "execution_count": 33,
   "metadata": {
    "execution": {
     "iopub.execute_input": "2021-03-14T10:38:48.563180Z",
     "iopub.status.busy": "2021-03-14T10:38:48.562168Z",
     "iopub.status.idle": "2021-03-14T10:38:48.573091Z",
     "shell.execute_reply": "2021-03-14T10:38:48.573547Z"
    },
    "papermill": {
     "duration": 0.152895,
     "end_time": "2021-03-14T10:38:48.573769",
     "exception": false,
     "start_time": "2021-03-14T10:38:48.420874",
     "status": "completed"
    },
    "tags": []
   },
   "outputs": [
    {
     "name": "stdout",
     "output_type": "stream",
     "text": [
      "              precision    recall  f1-score   support\n",
      "\n",
      "       Smelt       1.00      1.00      1.00        14\n",
      "       Bream       1.00      1.00      1.00        35\n",
      "\n",
      "    accuracy                           1.00        49\n",
      "   macro avg       1.00      1.00      1.00        49\n",
      "weighted avg       1.00      1.00      1.00        49\n",
      "\n"
     ]
    }
   ],
   "source": [
    "clf_report = classification_report(y_true=fish_label, y_pred=train_predicts, \n",
    "                                   labels=[0, 1],\n",
    "                                   target_names=['Smelt', 'Bream'])\n",
    "print(clf_report)"
   ]
  },
  {
   "cell_type": "markdown",
   "metadata": {
    "papermill": {
     "duration": 0.089355,
     "end_time": "2021-03-14T10:38:48.753267",
     "exception": false,
     "start_time": "2021-03-14T10:38:48.663912",
     "status": "completed"
    },
    "tags": []
   },
   "source": [
    "Based on training with train dataset, the accuracy score is 100%. But we will see if it performs well with test set as well. "
   ]
  },
  {
   "cell_type": "markdown",
   "metadata": {
    "papermill": {
     "duration": 0.089747,
     "end_time": "2021-03-14T10:38:48.933169",
     "exception": false,
     "start_time": "2021-03-14T10:38:48.843422",
     "status": "completed"
    },
    "tags": []
   },
   "source": [
    "Let's assume that there are 2 fishes in size one bream with 30cm/600g and one smelt with 14cm/30g each. We may stick them on the plot as below. "
   ]
  },
  {
   "cell_type": "code",
   "execution_count": 34,
   "metadata": {
    "execution": {
     "iopub.execute_input": "2021-03-14T10:38:49.122044Z",
     "iopub.status.busy": "2021-03-14T10:38:49.121374Z",
     "iopub.status.idle": "2021-03-14T10:38:49.337415Z",
     "shell.execute_reply": "2021-03-14T10:38:49.337915Z"
    },
    "papermill": {
     "duration": 0.312253,
     "end_time": "2021-03-14T10:38:49.338229",
     "exception": false,
     "start_time": "2021-03-14T10:38:49.025976",
     "status": "completed"
    },
    "tags": []
   },
   "outputs": [
    {
     "data": {
      "image/png": "[encoded data removed]",
      "text/plain": [
       "<Figure size 432x288 with 1 Axes>"
      ]
     },
     "metadata": {
      "needs_background": "light"
     },
     "output_type": "display_data"
    }
   ],
   "source": [
    "plt.scatter(bream_length, bream_weight, label='Bream')\n",
    "plt.scatter(smelt_length, smelt_weight, label='Smelt')\n",
    "plt.scatter([30, 14], [600, 30], marker='v', color='red', label='WhatIf')\n",
    "\n",
    "plt.legend()\n",
    "plt.show()"
   ]
  },
  {
   "cell_type": "code",
   "execution_count": 35,
   "metadata": {
    "execution": {
     "iopub.execute_input": "2021-03-14T10:38:49.524171Z",
     "iopub.status.busy": "2021-03-14T10:38:49.523504Z",
     "iopub.status.idle": "2021-03-14T10:38:49.531098Z",
     "shell.execute_reply": "2021-03-14T10:38:49.530491Z"
    },
    "papermill": {
     "duration": 0.101518,
     "end_time": "2021-03-14T10:38:49.531279",
     "exception": false,
     "start_time": "2021-03-14T10:38:49.429761",
     "status": "completed"
    },
    "tags": []
   },
   "outputs": [
    {
     "data": {
      "text/plain": [
       "array([1, 0])"
      ]
     },
     "execution_count": 35,
     "metadata": {},
     "output_type": "execute_result"
    }
   ],
   "source": [
    "knn_clf.predict([[600, 30], [50, 14]])"
   ]
  },
  {
   "cell_type": "code",
   "execution_count": 36,
   "metadata": {
    "execution": {
     "iopub.execute_input": "2021-03-14T10:38:49.720405Z",
     "iopub.status.busy": "2021-03-14T10:38:49.719569Z",
     "iopub.status.idle": "2021-03-14T10:38:49.723293Z",
     "shell.execute_reply": "2021-03-14T10:38:49.723767Z"
    },
    "papermill": {
     "duration": 0.101986,
     "end_time": "2021-03-14T10:38:49.723944",
     "exception": false,
     "start_time": "2021-03-14T10:38:49.621958",
     "status": "completed"
    },
    "tags": []
   },
   "outputs": [
    {
     "data": {
      "text/plain": [
       "array([1])"
      ]
     },
     "execution_count": 36,
     "metadata": {},
     "output_type": "execute_result"
    }
   ],
   "source": [
    "knn_clf.predict([[600, 30]])"
   ]
  },
  {
   "cell_type": "code",
   "execution_count": 37,
   "metadata": {
    "execution": {
     "iopub.execute_input": "2021-03-14T10:38:49.911691Z",
     "iopub.status.busy": "2021-03-14T10:38:49.910879Z",
     "iopub.status.idle": "2021-03-14T10:38:49.918288Z",
     "shell.execute_reply": "2021-03-14T10:38:49.917535Z"
    },
    "papermill": {
     "duration": 0.103601,
     "end_time": "2021-03-14T10:38:49.918448",
     "exception": false,
     "start_time": "2021-03-14T10:38:49.814847",
     "status": "completed"
    },
    "tags": []
   },
   "outputs": [
    {
     "data": {
      "text/plain": [
       "array([0])"
      ]
     },
     "execution_count": 37,
     "metadata": {},
     "output_type": "execute_result"
    }
   ],
   "source": [
    "knn_clf.predict([[50, 14]])"
   ]
  },
  {
   "cell_type": "markdown",
   "metadata": {
    "papermill": {
     "duration": 0.111656,
     "end_time": "2021-03-14T10:38:50.124144",
     "exception": false,
     "start_time": "2021-03-14T10:38:50.012488",
     "status": "completed"
    },
    "tags": []
   },
   "source": [
    "According to its model, bream was predicted well, but smelt was wrong. What happened?"
   ]
  },
  {
   "cell_type": "markdown",
   "metadata": {
    "papermill": {
     "duration": 0.09423,
     "end_time": "2021-03-14T10:38:50.334807",
     "exception": false,
     "start_time": "2021-03-14T10:38:50.240577",
     "status": "completed"
    },
    "tags": []
   },
   "source": [
    "In the classification setting, the K-nearest neighbor algorithm essentially boils down to forming a majority vote between the K most similar instances to a given “unseen” observation. Similarity is defined according to a distance metric between two data points. The k-nearest-neighbor classifier is commonly based on the Euclidean distance between a test sample and the specified training samples. Let $x_{i}$ be an input sample with $p$ features $(x_{i1}, x_{i2},..., x_{ip})$, $n$ be the total number of input samples $(i=1,2,...,n)$.  The Euclidean distance between sample $x_{i}$ and $x_{l}$ is is defined as: \n",
    "\n",
    "\n",
    "$$d(x_{i}, x_{l}) = \\sqrt{(x_{i1} - x_{l1})^2 + (x_{i2} - x_{l2})^2 + ... + (x_{ip} - x_{lp})^2}$$\n",
    "\n",
    "According to its formula, weight in gram affects the outcome pretty much more than lenth in cm. \n",
    "\n",
    "This is the scaling issue which I will describe further later in this notebook. "
   ]
  },
  {
   "cell_type": "markdown",
   "metadata": {
    "papermill": {
     "duration": 0.092898,
     "end_time": "2021-03-14T10:38:50.521339",
     "exception": false,
     "start_time": "2021-03-14T10:38:50.428441",
     "status": "completed"
    },
    "tags": []
   },
   "source": [
    "## Hyperparameter tuning by k(n_neighbors)"
   ]
  },
  {
   "cell_type": "markdown",
   "metadata": {
    "papermill": {
     "duration": 0.090367,
     "end_time": "2021-03-14T10:38:50.703513",
     "exception": false,
     "start_time": "2021-03-14T10:38:50.613146",
     "status": "completed"
    },
    "tags": []
   },
   "source": [
    "The value of k we selected above was selected by observing the curve of accuracy vs number of neighbors. This is a primitive way of hyperparameter tuning.\n",
    "\n",
    "There is a better way of doing it by trying a bunch of different hyperparameter values.\n",
    "\n",
    "Scikit-learn provides a simple way of achieving this using `n_neightbors`."
   ]
  },
  {
   "cell_type": "code",
   "execution_count": 38,
   "metadata": {
    "execution": {
     "iopub.execute_input": "2021-03-14T10:38:50.889349Z",
     "iopub.status.busy": "2021-03-14T10:38:50.888654Z",
     "iopub.status.idle": "2021-03-14T10:38:50.893687Z",
     "shell.execute_reply": "2021-03-14T10:38:50.894230Z"
    },
    "papermill": {
     "duration": 0.099862,
     "end_time": "2021-03-14T10:38:50.894419",
     "exception": false,
     "start_time": "2021-03-14T10:38:50.794557",
     "status": "completed"
    },
    "tags": []
   },
   "outputs": [
    {
     "data": {
      "text/plain": [
       "{'algorithm': 'auto',\n",
       " 'leaf_size': 30,\n",
       " 'metric': 'minkowski',\n",
       " 'metric_params': None,\n",
       " 'n_jobs': None,\n",
       " 'n_neighbors': 5,\n",
       " 'p': 2,\n",
       " 'weights': 'uniform'}"
      ]
     },
     "execution_count": 38,
     "metadata": {},
     "output_type": "execute_result"
    }
   ],
   "source": [
    "knn_clf.get_params()"
   ]
  },
  {
   "cell_type": "code",
   "execution_count": 39,
   "metadata": {
    "execution": {
     "iopub.execute_input": "2021-03-14T10:38:51.083094Z",
     "iopub.status.busy": "2021-03-14T10:38:51.082449Z",
     "iopub.status.idle": "2021-03-14T10:38:51.087653Z",
     "shell.execute_reply": "2021-03-14T10:38:51.088141Z"
    },
    "papermill": {
     "duration": 0.101651,
     "end_time": "2021-03-14T10:38:51.088400",
     "exception": false,
     "start_time": "2021-03-14T10:38:50.986749",
     "status": "completed"
    },
    "tags": []
   },
   "outputs": [
    {
     "data": {
      "text/plain": [
       "KNeighborsClassifier()"
      ]
     },
     "execution_count": 39,
     "metadata": {},
     "output_type": "execute_result"
    }
   ],
   "source": [
    "KNeighborsClassifier()"
   ]
  },
  {
   "cell_type": "code",
   "execution_count": 40,
   "metadata": {
    "execution": {
     "iopub.execute_input": "2021-03-14T10:38:51.278059Z",
     "iopub.status.busy": "2021-03-14T10:38:51.277383Z",
     "iopub.status.idle": "2021-03-14T10:38:51.283000Z",
     "shell.execute_reply": "2021-03-14T10:38:51.283541Z"
    },
    "papermill": {
     "duration": 0.101921,
     "end_time": "2021-03-14T10:38:51.283765",
     "exception": false,
     "start_time": "2021-03-14T10:38:51.181844",
     "status": "completed"
    },
    "tags": []
   },
   "outputs": [
    {
     "data": {
      "text/plain": [
       "5"
      ]
     },
     "execution_count": 40,
     "metadata": {},
     "output_type": "execute_result"
    }
   ],
   "source": [
    "knn_clf.n_neighbors"
   ]
  },
  {
   "cell_type": "code",
   "execution_count": 41,
   "metadata": {
    "execution": {
     "iopub.execute_input": "2021-03-14T10:38:51.475878Z",
     "iopub.status.busy": "2021-03-14T10:38:51.474828Z",
     "iopub.status.idle": "2021-03-14T10:38:51.485223Z",
     "shell.execute_reply": "2021-03-14T10:38:51.485693Z"
    },
    "papermill": {
     "duration": 0.107334,
     "end_time": "2021-03-14T10:38:51.485871",
     "exception": false,
     "start_time": "2021-03-14T10:38:51.378537",
     "status": "completed"
    },
    "tags": []
   },
   "outputs": [
    {
     "data": {
      "text/plain": [
       "1.0"
      ]
     },
     "execution_count": 41,
     "metadata": {},
     "output_type": "execute_result"
    }
   ],
   "source": [
    "knn_1 = KNeighborsClassifier(n_neighbors=1)\n",
    "knn_1.fit(X=fish_data, y=fish_label)\n",
    "knn_1.score(X=fish_data, y=fish_label)\n"
   ]
  },
  {
   "cell_type": "code",
   "execution_count": 42,
   "metadata": {
    "execution": {
     "iopub.execute_input": "2021-03-14T10:38:51.677190Z",
     "iopub.status.busy": "2021-03-14T10:38:51.676183Z",
     "iopub.status.idle": "2021-03-14T10:38:51.686330Z",
     "shell.execute_reply": "2021-03-14T10:38:51.686808Z"
    },
    "papermill": {
     "duration": 0.107154,
     "end_time": "2021-03-14T10:38:51.686990",
     "exception": false,
     "start_time": "2021-03-14T10:38:51.579836",
     "status": "completed"
    },
    "tags": []
   },
   "outputs": [
    {
     "data": {
      "text/plain": [
       "0.7142857142857143"
      ]
     },
     "execution_count": 42,
     "metadata": {},
     "output_type": "execute_result"
    }
   ],
   "source": [
    "knn_49 = KNeighborsClassifier(n_neighbors=49)\n",
    "knn_49.fit(fish_data, fish_label)\n",
    "knn_49.score(fish_data, fish_label)"
   ]
  },
  {
   "cell_type": "code",
   "execution_count": 43,
   "metadata": {
    "execution": {
     "iopub.execute_input": "2021-03-14T10:38:51.879803Z",
     "iopub.status.busy": "2021-03-14T10:38:51.878782Z",
     "iopub.status.idle": "2021-03-14T10:38:51.890325Z",
     "shell.execute_reply": "2021-03-14T10:38:51.889758Z"
    },
    "papermill": {
     "duration": 0.110024,
     "end_time": "2021-03-14T10:38:51.890467",
     "exception": false,
     "start_time": "2021-03-14T10:38:51.780443",
     "status": "completed"
    },
    "tags": []
   },
   "outputs": [
    {
     "data": {
      "text/plain": [
       "0.7142857142857143"
      ]
     },
     "execution_count": 43,
     "metadata": {},
     "output_type": "execute_result"
    }
   ],
   "source": [
    "knn = KNeighborsClassifier()\n",
    "knn.fit(fish_data, fish_label)\n",
    "knn.n_neighbors = 49\n",
    "knn.score(fish_data, fish_label)"
   ]
  },
  {
   "cell_type": "code",
   "execution_count": 44,
   "metadata": {
    "execution": {
     "iopub.execute_input": "2021-03-14T10:38:52.081548Z",
     "iopub.status.busy": "2021-03-14T10:38:52.080936Z",
     "iopub.status.idle": "2021-03-14T10:38:52.223913Z",
     "shell.execute_reply": "2021-03-14T10:38:52.223123Z"
    },
    "papermill": {
     "duration": 0.239666,
     "end_time": "2021-03-14T10:38:52.224118",
     "exception": false,
     "start_time": "2021-03-14T10:38:51.984452",
     "status": "completed"
    },
    "tags": []
   },
   "outputs": [
    {
     "name": "stdout",
     "output_type": "stream",
     "text": [
      "[1.0, 1.0, 1.0, 1.0, 1.0, 1.0, 1.0, 1.0, 1.0, 1.0, 1.0, 1.0, 1.0, 1.0, 1.0, 1.0, 1.0, 0.9795918367346939, 0.9795918367346939, 0.9795918367346939, 0.9795918367346939, 0.9795918367346939, 0.9795918367346939, 0.9795918367346939, 0.9795918367346939, 0.9795918367346939, 0.9795918367346939, 0.9591836734693877, 0.7142857142857143, 0.7142857142857143, 0.7142857142857143, 0.7142857142857143, 0.7142857142857143, 0.7142857142857143, 0.7142857142857143, 0.7142857142857143, 0.7142857142857143, 0.7142857142857143, 0.7142857142857143, 0.7142857142857143, 0.7142857142857143, 0.7142857142857143, 0.7142857142857143, 0.7142857142857143, 0.7142857142857143, 0.7142857142857143, 0.7142857142857143, 0.7142857142857143, 0.7142857142857143]\n"
     ]
    }
   ],
   "source": [
    "knn = KNeighborsClassifier()\n",
    "knn.fit(X=fish_data, y=fish_label)\n",
    "\n",
    "knn_scores = []\n",
    "for k in range(1, 50):\n",
    "    knn.n_neighbors = k\n",
    "    score = knn.score(X=fish_data, y=fish_label)\n",
    "    knn_scores.append(score)\n",
    "    \n",
    "print(knn_scores)"
   ]
  },
  {
   "cell_type": "code",
   "execution_count": 45,
   "metadata": {
    "execution": {
     "iopub.execute_input": "2021-03-14T10:38:52.436650Z",
     "iopub.status.busy": "2021-03-14T10:38:52.435979Z",
     "iopub.status.idle": "2021-03-14T10:38:52.571839Z",
     "shell.execute_reply": "2021-03-14T10:38:52.571144Z"
    },
    "papermill": {
     "duration": 0.252628,
     "end_time": "2021-03-14T10:38:52.571985",
     "exception": false,
     "start_time": "2021-03-14T10:38:52.319357",
     "status": "completed"
    },
    "tags": []
   },
   "outputs": [
    {
     "data": {
      "image/png": "[encoded data removed]",
      "text/plain": [
       "<Figure size 432x288 with 1 Axes>"
      ]
     },
     "metadata": {
      "needs_background": "light"
     },
     "output_type": "display_data"
    }
   ],
   "source": [
    "plt.plot(range(1, 50), knn_scores, 'o-')\n",
    "plt.xlabel('# of neighbors(k)')\n",
    "plt.ylabel('accuracy')\n",
    "plt.grid()\n",
    "plt.show()"
   ]
  },
  {
   "cell_type": "markdown",
   "metadata": {
    "papermill": {
     "duration": 0.095247,
     "end_time": "2021-03-14T10:38:52.762708",
     "exception": false,
     "start_time": "2021-03-14T10:38:52.667461",
     "status": "completed"
    },
    "tags": []
   },
   "source": [
    "As trying to plot the accuracy using k from 1 to 50, the performance started to slow from 18 and drastically dropped after k=28."
   ]
  },
  {
   "cell_type": "code",
   "execution_count": 46,
   "metadata": {
    "execution": {
     "iopub.execute_input": "2021-03-14T10:38:52.964365Z",
     "iopub.status.busy": "2021-03-14T10:38:52.963450Z",
     "iopub.status.idle": "2021-03-14T10:38:52.968306Z",
     "shell.execute_reply": "2021-03-14T10:38:52.967692Z"
    },
    "papermill": {
     "duration": 0.107522,
     "end_time": "2021-03-14T10:38:52.968445",
     "exception": false,
     "start_time": "2021-03-14T10:38:52.860923",
     "status": "completed"
    },
    "tags": []
   },
   "outputs": [
    {
     "data": {
      "text/plain": [
       "0"
      ]
     },
     "execution_count": 46,
     "metadata": {},
     "output_type": "execute_result"
    }
   ],
   "source": [
    "np.argmax(knn_scores)"
   ]
  },
  {
   "cell_type": "code",
   "execution_count": 47,
   "metadata": {
    "execution": {
     "iopub.execute_input": "2021-03-14T10:38:53.167896Z",
     "iopub.status.busy": "2021-03-14T10:38:53.166896Z",
     "iopub.status.idle": "2021-03-14T10:38:53.171426Z",
     "shell.execute_reply": "2021-03-14T10:38:53.170810Z"
    },
    "papermill": {
     "duration": 0.107068,
     "end_time": "2021-03-14T10:38:53.171563",
     "exception": false,
     "start_time": "2021-03-14T10:38:53.064495",
     "status": "completed"
    },
    "tags": []
   },
   "outputs": [
    {
     "data": {
      "text/plain": [
       "28"
      ]
     },
     "execution_count": 47,
     "metadata": {},
     "output_type": "execute_result"
    }
   ],
   "source": [
    "np.argmin(knn_scores)"
   ]
  },
  {
   "cell_type": "markdown",
   "metadata": {
    "papermill": {
     "duration": 0.097372,
     "end_time": "2021-03-14T10:38:53.365718",
     "exception": false,
     "start_time": "2021-03-14T10:38:53.268346",
     "status": "completed"
    },
    "tags": []
   },
   "source": [
    "# 4. Sampling Issue"
   ]
  },
  {
   "cell_type": "markdown",
   "metadata": {
    "papermill": {
     "duration": 0.096536,
     "end_time": "2021-03-14T10:38:53.558891",
     "exception": false,
     "start_time": "2021-03-14T10:38:53.462355",
     "status": "completed"
    },
    "tags": []
   },
   "source": [
    "## Sequantial Sampling"
   ]
  },
  {
   "cell_type": "code",
   "execution_count": 48,
   "metadata": {
    "execution": {
     "iopub.execute_input": "2021-03-14T10:38:53.756806Z",
     "iopub.status.busy": "2021-03-14T10:38:53.755826Z",
     "iopub.status.idle": "2021-03-14T10:38:53.758714Z",
     "shell.execute_reply": "2021-03-14T10:38:53.759162Z"
    },
    "papermill": {
     "duration": 0.104091,
     "end_time": "2021-03-14T10:38:53.759348",
     "exception": false,
     "start_time": "2021-03-14T10:38:53.655257",
     "status": "completed"
    },
    "tags": []
   },
   "outputs": [],
   "source": [
    "num_train = 35"
   ]
  },
  {
   "cell_type": "code",
   "execution_count": 49,
   "metadata": {
    "execution": {
     "iopub.execute_input": "2021-03-14T10:38:53.956934Z",
     "iopub.status.busy": "2021-03-14T10:38:53.955918Z",
     "iopub.status.idle": "2021-03-14T10:38:53.960597Z",
     "shell.execute_reply": "2021-03-14T10:38:53.961186Z"
    },
    "papermill": {
     "duration": 0.105793,
     "end_time": "2021-03-14T10:38:53.961357",
     "exception": false,
     "start_time": "2021-03-14T10:38:53.855564",
     "status": "completed"
    },
    "tags": []
   },
   "outputs": [],
   "source": [
    "X_train, X_test = fish_data[:num_train], fish_data[num_train:]"
   ]
  },
  {
   "cell_type": "code",
   "execution_count": 50,
   "metadata": {
    "execution": {
     "iopub.execute_input": "2021-03-14T10:38:54.162161Z",
     "iopub.status.busy": "2021-03-14T10:38:54.161164Z",
     "iopub.status.idle": "2021-03-14T10:38:54.165540Z",
     "shell.execute_reply": "2021-03-14T10:38:54.166197Z"
    },
    "papermill": {
     "duration": 0.105986,
     "end_time": "2021-03-14T10:38:54.166390",
     "exception": false,
     "start_time": "2021-03-14T10:38:54.060404",
     "status": "completed"
    },
    "tags": []
   },
   "outputs": [],
   "source": [
    "y_train, y_test = fish_label[:num_train], fish_label[num_train:]"
   ]
  },
  {
   "cell_type": "code",
   "execution_count": 51,
   "metadata": {
    "execution": {
     "iopub.execute_input": "2021-03-14T10:38:54.365151Z",
     "iopub.status.busy": "2021-03-14T10:38:54.364146Z",
     "iopub.status.idle": "2021-03-14T10:38:54.369814Z",
     "shell.execute_reply": "2021-03-14T10:38:54.370317Z"
    },
    "papermill": {
     "duration": 0.107308,
     "end_time": "2021-03-14T10:38:54.370489",
     "exception": false,
     "start_time": "2021-03-14T10:38:54.263181",
     "status": "completed"
    },
    "tags": []
   },
   "outputs": [
    {
     "data": {
      "text/plain": [
       "((35, 2), (14, 2))"
      ]
     },
     "execution_count": 51,
     "metadata": {},
     "output_type": "execute_result"
    }
   ],
   "source": [
    "X_train.shape, X_test.shape"
   ]
  },
  {
   "cell_type": "code",
   "execution_count": 52,
   "metadata": {
    "execution": {
     "iopub.execute_input": "2021-03-14T10:38:54.569806Z",
     "iopub.status.busy": "2021-03-14T10:38:54.568759Z",
     "iopub.status.idle": "2021-03-14T10:38:54.572905Z",
     "shell.execute_reply": "2021-03-14T10:38:54.573470Z"
    },
    "papermill": {
     "duration": 0.10549,
     "end_time": "2021-03-14T10:38:54.573695",
     "exception": false,
     "start_time": "2021-03-14T10:38:54.468205",
     "status": "completed"
    },
    "tags": []
   },
   "outputs": [],
   "source": [
    "knn_clf = KNeighborsClassifier()"
   ]
  },
  {
   "cell_type": "code",
   "execution_count": 53,
   "metadata": {
    "execution": {
     "iopub.execute_input": "2021-03-14T10:38:54.776140Z",
     "iopub.status.busy": "2021-03-14T10:38:54.775174Z",
     "iopub.status.idle": "2021-03-14T10:38:54.778964Z",
     "shell.execute_reply": "2021-03-14T10:38:54.779412Z"
    },
    "papermill": {
     "duration": 0.108095,
     "end_time": "2021-03-14T10:38:54.779589",
     "exception": false,
     "start_time": "2021-03-14T10:38:54.671494",
     "status": "completed"
    },
    "tags": []
   },
   "outputs": [
    {
     "data": {
      "text/plain": [
       "KNeighborsClassifier()"
      ]
     },
     "execution_count": 53,
     "metadata": {},
     "output_type": "execute_result"
    }
   ],
   "source": [
    "knn_clf.fit(X=X_train, y=y_train)"
   ]
  },
  {
   "cell_type": "code",
   "execution_count": 54,
   "metadata": {
    "execution": {
     "iopub.execute_input": "2021-03-14T10:38:54.981738Z",
     "iopub.status.busy": "2021-03-14T10:38:54.980363Z",
     "iopub.status.idle": "2021-03-14T10:38:54.989336Z",
     "shell.execute_reply": "2021-03-14T10:38:54.989831Z"
    },
    "papermill": {
     "duration": 0.111723,
     "end_time": "2021-03-14T10:38:54.990012",
     "exception": false,
     "start_time": "2021-03-14T10:38:54.878289",
     "status": "completed"
    },
    "tags": []
   },
   "outputs": [
    {
     "data": {
      "text/plain": [
       "1.0"
      ]
     },
     "execution_count": 54,
     "metadata": {},
     "output_type": "execute_result"
    }
   ],
   "source": [
    "knn_clf.score(X_train, y_train)"
   ]
  },
  {
   "cell_type": "code",
   "execution_count": 55,
   "metadata": {
    "execution": {
     "iopub.execute_input": "2021-03-14T10:38:55.191864Z",
     "iopub.status.busy": "2021-03-14T10:38:55.190898Z",
     "iopub.status.idle": "2021-03-14T10:38:55.196711Z",
     "shell.execute_reply": "2021-03-14T10:38:55.197162Z"
    },
    "papermill": {
     "duration": 0.107907,
     "end_time": "2021-03-14T10:38:55.197336",
     "exception": false,
     "start_time": "2021-03-14T10:38:55.089429",
     "status": "completed"
    },
    "tags": []
   },
   "outputs": [],
   "source": [
    "test_predicts = knn_clf.predict(X_test)"
   ]
  },
  {
   "cell_type": "code",
   "execution_count": 100,
   "metadata": {
    "execution": {
     "iopub.execute_input": "2021-03-14T10:38:55.399257Z",
     "iopub.status.busy": "2021-03-14T10:38:55.398211Z",
     "iopub.status.idle": "2021-03-14T10:38:55.416071Z",
     "shell.execute_reply": "2021-03-14T10:38:55.415416Z"
    },
    "papermill": {
     "duration": 0.120752,
     "end_time": "2021-03-14T10:38:55.416216",
     "exception": false,
     "start_time": "2021-03-14T10:38:55.295464",
     "status": "completed"
    },
    "tags": []
   },
   "outputs": [
    {
     "name": "stdout",
     "output_type": "stream",
     "text": [
      "              precision    recall  f1-score   support\n",
      "\n",
      "       Smelt       1.00      1.00      1.00         4\n",
      "       Bream       1.00      1.00      1.00        11\n",
      "\n",
      "    accuracy                           1.00        15\n",
      "   macro avg       1.00      1.00      1.00        15\n",
      "weighted avg       1.00      1.00      1.00        15\n",
      "\n"
     ]
    }
   ],
   "source": [
    "clf_report = classification_report(y_true=y_test, y_pred=test_predicts, \n",
    "                                   labels=[0, 1],\n",
    "                                   target_names=['Smelt', 'Bream'])\n",
    "print(clf_report)"
   ]
  },
  {
   "cell_type": "markdown",
   "metadata": {
    "papermill": {
     "duration": 0.100369,
     "end_time": "2021-03-14T10:38:55.617134",
     "exception": false,
     "start_time": "2021-03-14T10:38:55.516765",
     "status": "completed"
    },
    "tags": []
   },
   "source": [
    "sampling bias is a bias in which a sample is collected in such a way that some members of the intended population have a lower or higher sampling probability than others. Above shows 0 accuracy when fitting the model without considering appropriate sampling. "
   ]
  },
  {
   "cell_type": "markdown",
   "metadata": {
    "papermill": {
     "duration": 0.099755,
     "end_time": "2021-03-14T10:38:55.816219",
     "exception": false,
     "start_time": "2021-03-14T10:38:55.716464",
     "status": "completed"
    },
    "tags": []
   },
   "source": [
    "## Random Sampling "
   ]
  },
  {
   "cell_type": "code",
   "execution_count": 57,
   "metadata": {
    "execution": {
     "iopub.execute_input": "2021-03-14T10:38:56.024932Z",
     "iopub.status.busy": "2021-03-14T10:38:56.024031Z",
     "iopub.status.idle": "2021-03-14T10:38:56.028329Z",
     "shell.execute_reply": "2021-03-14T10:38:56.027795Z"
    },
    "papermill": {
     "duration": 0.111623,
     "end_time": "2021-03-14T10:38:56.028481",
     "exception": false,
     "start_time": "2021-03-14T10:38:55.916858",
     "status": "completed"
    },
    "tags": []
   },
   "outputs": [
    {
     "data": {
      "text/plain": [
       "array([27, 34, 39, 48,  2,  3, 42, 29, 45, 30, 31, 38, 21, 35, 19, 41, 36,\n",
       "       26, 22, 13, 40, 17, 44, 24, 23,  4, 32, 14, 10, 28, 47, 33, 18, 20,\n",
       "       25,  6,  7, 46,  1, 16,  0, 15,  5, 11,  9,  8, 12, 43, 37])"
      ]
     },
     "execution_count": 57,
     "metadata": {},
     "output_type": "execute_result"
    }
   ],
   "source": [
    "np.random.seed(1)\n",
    "idx = np.arange(49)\n",
    "np.random.shuffle(idx)\n",
    "idx"
   ]
  },
  {
   "cell_type": "code",
   "execution_count": 58,
   "metadata": {
    "execution": {
     "iopub.execute_input": "2021-03-14T10:38:56.235790Z",
     "iopub.status.busy": "2021-03-14T10:38:56.235117Z",
     "iopub.status.idle": "2021-03-14T10:38:56.240318Z",
     "shell.execute_reply": "2021-03-14T10:38:56.240774Z"
    },
    "papermill": {
     "duration": 0.109706,
     "end_time": "2021-03-14T10:38:56.240948",
     "exception": false,
     "start_time": "2021-03-14T10:38:56.131242",
     "status": "completed"
    },
    "tags": []
   },
   "outputs": [
    {
     "data": {
      "text/plain": [
       "array([27, 34, 39, 48,  2,  3, 42, 29, 45, 30, 31, 38, 21, 35, 19, 41, 36,\n",
       "       26, 22, 13, 40, 17, 44, 24, 23,  4, 32, 14, 10, 28, 47, 33, 18, 20,\n",
       "       25])"
      ]
     },
     "execution_count": 58,
     "metadata": {},
     "output_type": "execute_result"
    }
   ],
   "source": [
    "train_idx, test_idx = idx[:num_train], idx[num_train:]\n",
    "train_idx"
   ]
  },
  {
   "cell_type": "code",
   "execution_count": 59,
   "metadata": {
    "execution": {
     "iopub.execute_input": "2021-03-14T10:38:56.447696Z",
     "iopub.status.busy": "2021-03-14T10:38:56.447056Z",
     "iopub.status.idle": "2021-03-14T10:38:56.451843Z",
     "shell.execute_reply": "2021-03-14T10:38:56.452382Z"
    },
    "papermill": {
     "duration": 0.110668,
     "end_time": "2021-03-14T10:38:56.452561",
     "exception": false,
     "start_time": "2021-03-14T10:38:56.341893",
     "status": "completed"
    },
    "tags": []
   },
   "outputs": [
    {
     "data": {
      "text/plain": [
       "array([ 6,  7, 46,  1, 16,  0, 15,  5, 11,  9,  8, 12, 43, 37])"
      ]
     },
     "execution_count": 59,
     "metadata": {},
     "output_type": "execute_result"
    }
   ],
   "source": [
    "test_idx"
   ]
  },
  {
   "cell_type": "code",
   "execution_count": 60,
   "metadata": {
    "execution": {
     "iopub.execute_input": "2021-03-14T10:38:56.662402Z",
     "iopub.status.busy": "2021-03-14T10:38:56.661761Z",
     "iopub.status.idle": "2021-03-14T10:38:56.666688Z",
     "shell.execute_reply": "2021-03-14T10:38:56.667126Z"
    },
    "papermill": {
     "duration": 0.109385,
     "end_time": "2021-03-14T10:38:56.667305",
     "exception": false,
     "start_time": "2021-03-14T10:38:56.557920",
     "status": "completed"
    },
    "tags": []
   },
   "outputs": [
    {
     "data": {
      "text/plain": [
       "((35, 2), (14, 2))"
      ]
     },
     "execution_count": 60,
     "metadata": {},
     "output_type": "execute_result"
    }
   ],
   "source": [
    "X_train, X_test = fish_data[train_idx], fish_data[test_idx]\n",
    "X_train.shape, X_test.shape"
   ]
  },
  {
   "cell_type": "code",
   "execution_count": 61,
   "metadata": {
    "execution": {
     "iopub.execute_input": "2021-03-14T10:38:56.875449Z",
     "iopub.status.busy": "2021-03-14T10:38:56.874736Z",
     "iopub.status.idle": "2021-03-14T10:38:56.879921Z",
     "shell.execute_reply": "2021-03-14T10:38:56.880634Z"
    },
    "papermill": {
     "duration": 0.11198,
     "end_time": "2021-03-14T10:38:56.880834",
     "exception": false,
     "start_time": "2021-03-14T10:38:56.768854",
     "status": "completed"
    },
    "tags": []
   },
   "outputs": [
    {
     "data": {
      "text/plain": [
       "((35,), (14,))"
      ]
     },
     "execution_count": 61,
     "metadata": {},
     "output_type": "execute_result"
    }
   ],
   "source": [
    "y_train, y_test = fish_label[train_idx], fish_label[test_idx]\n",
    "y_train.shape, y_test.shape"
   ]
  },
  {
   "cell_type": "code",
   "execution_count": 62,
   "metadata": {
    "execution": {
     "iopub.execute_input": "2021-03-14T10:38:57.099352Z",
     "iopub.status.busy": "2021-03-14T10:38:57.098662Z",
     "iopub.status.idle": "2021-03-14T10:38:57.103836Z",
     "shell.execute_reply": "2021-03-14T10:38:57.104331Z"
    },
    "papermill": {
     "duration": 0.118364,
     "end_time": "2021-03-14T10:38:57.104507",
     "exception": false,
     "start_time": "2021-03-14T10:38:56.986143",
     "status": "completed"
    },
    "tags": []
   },
   "outputs": [
    {
     "data": {
      "text/plain": [
       "(array([0, 1]), array([11, 24]))"
      ]
     },
     "execution_count": 62,
     "metadata": {},
     "output_type": "execute_result"
    }
   ],
   "source": [
    "np.unique(y_train, return_counts=True)"
   ]
  },
  {
   "cell_type": "code",
   "execution_count": 63,
   "metadata": {
    "execution": {
     "iopub.execute_input": "2021-03-14T10:38:57.313210Z",
     "iopub.status.busy": "2021-03-14T10:38:57.312531Z",
     "iopub.status.idle": "2021-03-14T10:38:57.319399Z",
     "shell.execute_reply": "2021-03-14T10:38:57.318464Z"
    },
    "papermill": {
     "duration": 0.112764,
     "end_time": "2021-03-14T10:38:57.319570",
     "exception": false,
     "start_time": "2021-03-14T10:38:57.206806",
     "status": "completed"
    },
    "tags": []
   },
   "outputs": [
    {
     "data": {
      "text/plain": [
       "(array([0, 1]), array([ 3, 11]))"
      ]
     },
     "execution_count": 63,
     "metadata": {},
     "output_type": "execute_result"
    }
   ],
   "source": [
    "np.unique(y_test, return_counts=True)"
   ]
  },
  {
   "cell_type": "code",
   "execution_count": 64,
   "metadata": {
    "execution": {
     "iopub.execute_input": "2021-03-14T10:38:57.538202Z",
     "iopub.status.busy": "2021-03-14T10:38:57.537181Z",
     "iopub.status.idle": "2021-03-14T10:38:57.541714Z",
     "shell.execute_reply": "2021-03-14T10:38:57.540953Z"
    },
    "papermill": {
     "duration": 0.114276,
     "end_time": "2021-03-14T10:38:57.541876",
     "exception": false,
     "start_time": "2021-03-14T10:38:57.427600",
     "status": "completed"
    },
    "tags": []
   },
   "outputs": [
    {
     "data": {
      "text/plain": [
       "(0.21428571428571427, 0.7857142857142857)"
      ]
     },
     "execution_count": 64,
     "metadata": {},
     "output_type": "execute_result"
    }
   ],
   "source": [
    "3/14, 11/14"
   ]
  },
  {
   "cell_type": "markdown",
   "metadata": {
    "papermill": {
     "duration": 0.103741,
     "end_time": "2021-03-14T10:38:57.750736",
     "exception": false,
     "start_time": "2021-03-14T10:38:57.646995",
     "status": "completed"
    },
    "tags": []
   },
   "source": [
    "It looks split well randomly. Let's check out the share to see if they are split in well proportion."
   ]
  },
  {
   "cell_type": "code",
   "execution_count": 65,
   "metadata": {
    "execution": {
     "iopub.execute_input": "2021-03-14T10:38:57.985111Z",
     "iopub.status.busy": "2021-03-14T10:38:57.982033Z",
     "iopub.status.idle": "2021-03-14T10:38:58.171894Z",
     "shell.execute_reply": "2021-03-14T10:38:58.171213Z"
    },
    "papermill": {
     "duration": 0.317013,
     "end_time": "2021-03-14T10:38:58.172048",
     "exception": false,
     "start_time": "2021-03-14T10:38:57.855035",
     "status": "completed"
    },
    "tags": []
   },
   "outputs": [
    {
     "data": {
      "image/png": "[encoded data removed]",
      "text/plain": [
       "<Figure size 432x288 with 1 Axes>"
      ]
     },
     "metadata": {
      "needs_background": "light"
     },
     "output_type": "display_data"
    }
   ],
   "source": [
    "plt.scatter(X_train[:, 1], X_train[:, 0], label='Train')\n",
    "plt.scatter(X_test[:, 1], X_test[:, 0], label='Test')\n",
    "\n",
    "plt.legend()\n",
    "plt.xlabel('Length(cm)')\n",
    "plt.ylabel('Weight(g')\n",
    "plt.show()"
   ]
  },
  {
   "cell_type": "code",
   "execution_count": 66,
   "metadata": {
    "execution": {
     "iopub.execute_input": "2021-03-14T10:38:58.391340Z",
     "iopub.status.busy": "2021-03-14T10:38:58.390587Z",
     "iopub.status.idle": "2021-03-14T10:38:58.394130Z",
     "shell.execute_reply": "2021-03-14T10:38:58.393630Z"
    },
    "papermill": {
     "duration": 0.115217,
     "end_time": "2021-03-14T10:38:58.394376",
     "exception": false,
     "start_time": "2021-03-14T10:38:58.279159",
     "status": "completed"
    },
    "tags": []
   },
   "outputs": [],
   "source": [
    "knn_clf = KNeighborsClassifier()"
   ]
  },
  {
   "cell_type": "code",
   "execution_count": 67,
   "metadata": {
    "execution": {
     "iopub.execute_input": "2021-03-14T10:38:58.611296Z",
     "iopub.status.busy": "2021-03-14T10:38:58.610589Z",
     "iopub.status.idle": "2021-03-14T10:38:58.613661Z",
     "shell.execute_reply": "2021-03-14T10:38:58.614194Z"
    },
    "papermill": {
     "duration": 0.114921,
     "end_time": "2021-03-14T10:38:58.614365",
     "exception": false,
     "start_time": "2021-03-14T10:38:58.499444",
     "status": "completed"
    },
    "tags": []
   },
   "outputs": [
    {
     "data": {
      "text/plain": [
       "KNeighborsClassifier()"
      ]
     },
     "execution_count": 67,
     "metadata": {},
     "output_type": "execute_result"
    }
   ],
   "source": [
    "knn_clf.fit(X_train, y_train)"
   ]
  },
  {
   "cell_type": "code",
   "execution_count": 68,
   "metadata": {
    "execution": {
     "iopub.execute_input": "2021-03-14T10:38:58.828218Z",
     "iopub.status.busy": "2021-03-14T10:38:58.827471Z",
     "iopub.status.idle": "2021-03-14T10:38:58.835744Z",
     "shell.execute_reply": "2021-03-14T10:38:58.836292Z"
    },
    "papermill": {
     "duration": 0.117477,
     "end_time": "2021-03-14T10:38:58.836464",
     "exception": false,
     "start_time": "2021-03-14T10:38:58.718987",
     "status": "completed"
    },
    "tags": []
   },
   "outputs": [
    {
     "data": {
      "text/plain": [
       "1.0"
      ]
     },
     "execution_count": 68,
     "metadata": {},
     "output_type": "execute_result"
    }
   ],
   "source": [
    "knn_clf.score(X_train, y_train)"
   ]
  },
  {
   "cell_type": "code",
   "execution_count": 69,
   "metadata": {
    "execution": {
     "iopub.execute_input": "2021-03-14T10:38:59.051536Z",
     "iopub.status.busy": "2021-03-14T10:38:59.050911Z",
     "iopub.status.idle": "2021-03-14T10:38:59.058795Z",
     "shell.execute_reply": "2021-03-14T10:38:59.058134Z"
    },
    "papermill": {
     "duration": 0.115753,
     "end_time": "2021-03-14T10:38:59.058938",
     "exception": false,
     "start_time": "2021-03-14T10:38:58.943185",
     "status": "completed"
    },
    "tags": []
   },
   "outputs": [
    {
     "data": {
      "text/plain": [
       "1.0"
      ]
     },
     "execution_count": 69,
     "metadata": {},
     "output_type": "execute_result"
    }
   ],
   "source": [
    "knn_clf.score(X_test, y_test)"
   ]
  },
  {
   "cell_type": "markdown",
   "metadata": {
    "papermill": {
     "duration": 0.1052,
     "end_time": "2021-03-14T10:38:59.272313",
     "exception": false,
     "start_time": "2021-03-14T10:38:59.167113",
     "status": "completed"
    },
    "tags": []
   },
   "source": [
    "## Stratified Sampling"
   ]
  },
  {
   "cell_type": "markdown",
   "metadata": {
    "papermill": {
     "duration": 0.10582,
     "end_time": "2021-03-14T10:38:59.483779",
     "exception": false,
     "start_time": "2021-03-14T10:38:59.377959",
     "status": "completed"
    },
    "tags": []
   },
   "source": [
    "In statistics, [**_Stratified Sampling_**](https://en.wikipedia.org/wiki/Stratified_sampling) is a method of sampling from a population which can be partitioned into subpopulations.\n",
    "\n",
    "In statistical surveys, when subpopulations within an overall population vary, it could be advantageous to sample each subpopulation (stratum) independently. Stratification is the process of dividing members of the population into homogeneous subgroups before sampling. The strata should define a partition of the population. That is, it should be collectively exhaustive and mutually exclusive: every element in the population must be assigned to one and only one stratum. Then simple random sampling is applied within each stratum. The objective is to improve the precision of the sample by reducing sampling error. It can produce a weighted mean that has less variability than the arithmetic mean of a simple random sample of the population.\n",
    "\n",
    "<img src='https://www.netquest.com/hubfs/Imported_Blog_Media/Stratified_sampling.png'>"
   ]
  },
  {
   "cell_type": "code",
   "execution_count": 70,
   "metadata": {
    "execution": {
     "iopub.execute_input": "2021-03-14T10:38:59.699760Z",
     "iopub.status.busy": "2021-03-14T10:38:59.699072Z",
     "iopub.status.idle": "2021-03-14T10:38:59.708221Z",
     "shell.execute_reply": "2021-03-14T10:38:59.708847Z"
    },
    "papermill": {
     "duration": 0.118267,
     "end_time": "2021-03-14T10:38:59.709051",
     "exception": false,
     "start_time": "2021-03-14T10:38:59.590784",
     "status": "completed"
    },
    "tags": []
   },
   "outputs": [],
   "source": [
    "X_train, X_test, y_train, y_test = train_test_split(fish_data,       \n",
    "                                                    fish_label,      \n",
    "                                                    test_size=0.3,  \n",
    "                                                    stratify=fish_label, \n",
    "                                                    random_state=1) "
   ]
  },
  {
   "cell_type": "code",
   "execution_count": 71,
   "metadata": {
    "execution": {
     "iopub.execute_input": "2021-03-14T10:38:59.925330Z",
     "iopub.status.busy": "2021-03-14T10:38:59.924650Z",
     "iopub.status.idle": "2021-03-14T10:38:59.929862Z",
     "shell.execute_reply": "2021-03-14T10:38:59.930394Z"
    },
    "papermill": {
     "duration": 0.115783,
     "end_time": "2021-03-14T10:38:59.930567",
     "exception": false,
     "start_time": "2021-03-14T10:38:59.814784",
     "status": "completed"
    },
    "tags": []
   },
   "outputs": [
    {
     "data": {
      "text/plain": [
       "((34, 2), (15, 2))"
      ]
     },
     "execution_count": 71,
     "metadata": {},
     "output_type": "execute_result"
    }
   ],
   "source": [
    "X_train.shape, X_test.shape"
   ]
  },
  {
   "cell_type": "code",
   "execution_count": 72,
   "metadata": {
    "execution": {
     "iopub.execute_input": "2021-03-14T10:39:00.149658Z",
     "iopub.status.busy": "2021-03-14T10:39:00.148966Z",
     "iopub.status.idle": "2021-03-14T10:39:00.154117Z",
     "shell.execute_reply": "2021-03-14T10:39:00.154646Z"
    },
    "papermill": {
     "duration": 0.116305,
     "end_time": "2021-03-14T10:39:00.154827",
     "exception": false,
     "start_time": "2021-03-14T10:39:00.038522",
     "status": "completed"
    },
    "tags": []
   },
   "outputs": [
    {
     "data": {
      "text/plain": [
       "((34,), (15,))"
      ]
     },
     "execution_count": 72,
     "metadata": {},
     "output_type": "execute_result"
    }
   ],
   "source": [
    "y_train.shape, y_test.shape"
   ]
  },
  {
   "cell_type": "code",
   "execution_count": 73,
   "metadata": {
    "execution": {
     "iopub.execute_input": "2021-03-14T10:39:00.376483Z",
     "iopub.status.busy": "2021-03-14T10:39:00.375694Z",
     "iopub.status.idle": "2021-03-14T10:39:00.379842Z",
     "shell.execute_reply": "2021-03-14T10:39:00.380365Z"
    },
    "papermill": {
     "duration": 0.11784,
     "end_time": "2021-03-14T10:39:00.380542",
     "exception": false,
     "start_time": "2021-03-14T10:39:00.262702",
     "status": "completed"
    },
    "tags": []
   },
   "outputs": [
    {
     "data": {
      "text/plain": [
       "(array([0, 1]), array([10, 24]))"
      ]
     },
     "execution_count": 73,
     "metadata": {},
     "output_type": "execute_result"
    }
   ],
   "source": [
    "np.unique(y_train, return_counts=True)"
   ]
  },
  {
   "cell_type": "code",
   "execution_count": 74,
   "metadata": {
    "execution": {
     "iopub.execute_input": "2021-03-14T10:39:00.600813Z",
     "iopub.status.busy": "2021-03-14T10:39:00.600108Z",
     "iopub.status.idle": "2021-03-14T10:39:00.605710Z",
     "shell.execute_reply": "2021-03-14T10:39:00.606324Z"
    },
    "papermill": {
     "duration": 0.116365,
     "end_time": "2021-03-14T10:39:00.606497",
     "exception": false,
     "start_time": "2021-03-14T10:39:00.490132",
     "status": "completed"
    },
    "tags": []
   },
   "outputs": [
    {
     "data": {
      "text/plain": [
       "(array([0, 1]), array([ 4, 11]))"
      ]
     },
     "execution_count": 74,
     "metadata": {},
     "output_type": "execute_result"
    }
   ],
   "source": [
    "np.unique(y_test, return_counts=True)"
   ]
  },
  {
   "cell_type": "code",
   "execution_count": 75,
   "metadata": {
    "execution": {
     "iopub.execute_input": "2021-03-14T10:39:00.826202Z",
     "iopub.status.busy": "2021-03-14T10:39:00.825567Z",
     "iopub.status.idle": "2021-03-14T10:39:00.830276Z",
     "shell.execute_reply": "2021-03-14T10:39:00.830831Z"
    },
    "papermill": {
     "duration": 0.115819,
     "end_time": "2021-03-14T10:39:00.831002",
     "exception": false,
     "start_time": "2021-03-14T10:39:00.715183",
     "status": "completed"
    },
    "tags": []
   },
   "outputs": [
    {
     "data": {
      "text/plain": [
       "(0.26666666666666666, 0.7333333333333333)"
      ]
     },
     "execution_count": 75,
     "metadata": {},
     "output_type": "execute_result"
    }
   ],
   "source": [
    "4/15, 11/15  # Split share between Breams:Smelts"
   ]
  },
  {
   "cell_type": "markdown",
   "metadata": {
    "papermill": {
     "duration": 0.115862,
     "end_time": "2021-03-14T10:39:01.055290",
     "exception": false,
     "start_time": "2021-03-14T10:39:00.939428",
     "status": "completed"
    },
    "tags": []
   },
   "source": [
    "It looks well split between the targets."
   ]
  },
  {
   "cell_type": "code",
   "execution_count": 76,
   "metadata": {
    "execution": {
     "iopub.execute_input": "2021-03-14T10:39:01.317992Z",
     "iopub.status.busy": "2021-03-14T10:39:01.317330Z",
     "iopub.status.idle": "2021-03-14T10:39:01.520333Z",
     "shell.execute_reply": "2021-03-14T10:39:01.520948Z"
    },
    "papermill": {
     "duration": 0.317543,
     "end_time": "2021-03-14T10:39:01.521128",
     "exception": false,
     "start_time": "2021-03-14T10:39:01.203585",
     "status": "completed"
    },
    "tags": []
   },
   "outputs": [
    {
     "data": {
      "image/png": "[encoded data removed]",
      "text/plain": [
       "<Figure size 432x288 with 1 Axes>"
      ]
     },
     "metadata": {
      "needs_background": "light"
     },
     "output_type": "display_data"
    }
   ],
   "source": [
    "plt.scatter(X_train[:, 1], X_train[:, 0], label='Train')\n",
    "plt.scatter(X_test[:, 1], X_test[:, 0], label='Test')\n",
    "\n",
    "plt.legend()\n",
    "plt.xlabel('Length(cm)')\n",
    "plt.ylabel('Weight(g')\n",
    "plt.show()"
   ]
  },
  {
   "cell_type": "code",
   "execution_count": 77,
   "metadata": {
    "execution": {
     "iopub.execute_input": "2021-03-14T10:39:01.744016Z",
     "iopub.status.busy": "2021-03-14T10:39:01.743369Z",
     "iopub.status.idle": "2021-03-14T10:39:01.746983Z",
     "shell.execute_reply": "2021-03-14T10:39:01.747506Z"
    },
    "papermill": {
     "duration": 0.116526,
     "end_time": "2021-03-14T10:39:01.747703",
     "exception": false,
     "start_time": "2021-03-14T10:39:01.631177",
     "status": "completed"
    },
    "tags": []
   },
   "outputs": [],
   "source": [
    "# knn Model \n",
    "knn_clf = KNeighborsClassifier()"
   ]
  },
  {
   "cell_type": "code",
   "execution_count": 78,
   "metadata": {
    "execution": {
     "iopub.execute_input": "2021-03-14T10:39:01.973858Z",
     "iopub.status.busy": "2021-03-14T10:39:01.973093Z",
     "iopub.status.idle": "2021-03-14T10:39:01.979366Z",
     "shell.execute_reply": "2021-03-14T10:39:01.979887Z"
    },
    "papermill": {
     "duration": 0.121794,
     "end_time": "2021-03-14T10:39:01.980070",
     "exception": false,
     "start_time": "2021-03-14T10:39:01.858276",
     "status": "completed"
    },
    "tags": []
   },
   "outputs": [
    {
     "data": {
      "text/plain": [
       "KNeighborsClassifier()"
      ]
     },
     "execution_count": 78,
     "metadata": {},
     "output_type": "execute_result"
    }
   ],
   "source": [
    "# Model fi\n",
    "knn_clf.fit(X=X_train, y=y_train)"
   ]
  },
  {
   "cell_type": "code",
   "execution_count": 79,
   "metadata": {
    "execution": {
     "iopub.execute_input": "2021-03-14T10:39:02.214426Z",
     "iopub.status.busy": "2021-03-14T10:39:02.213646Z",
     "iopub.status.idle": "2021-03-14T10:39:02.221571Z",
     "shell.execute_reply": "2021-03-14T10:39:02.222129Z"
    },
    "papermill": {
     "duration": 0.123508,
     "end_time": "2021-03-14T10:39:02.222319",
     "exception": false,
     "start_time": "2021-03-14T10:39:02.098811",
     "status": "completed"
    },
    "tags": []
   },
   "outputs": [
    {
     "data": {
      "text/plain": [
       "1.0"
      ]
     },
     "execution_count": 79,
     "metadata": {},
     "output_type": "execute_result"
    }
   ],
   "source": [
    "# Model performance evaluation\n",
    "knn_clf.score(X=X_train, y=y_train)"
   ]
  },
  {
   "cell_type": "code",
   "execution_count": 80,
   "metadata": {
    "execution": {
     "iopub.execute_input": "2021-03-14T10:39:02.450969Z",
     "iopub.status.busy": "2021-03-14T10:39:02.450269Z",
     "iopub.status.idle": "2021-03-14T10:39:02.458554Z",
     "shell.execute_reply": "2021-03-14T10:39:02.459039Z"
    },
    "papermill": {
     "duration": 0.124452,
     "end_time": "2021-03-14T10:39:02.459353",
     "exception": false,
     "start_time": "2021-03-14T10:39:02.334901",
     "status": "completed"
    },
    "tags": []
   },
   "outputs": [
    {
     "data": {
      "text/plain": [
       "1.0"
      ]
     },
     "execution_count": 80,
     "metadata": {},
     "output_type": "execute_result"
    }
   ],
   "source": [
    "# Performance evaluation on test set\n",
    "knn_clf.score(X_test, y=y_test)"
   ]
  },
  {
   "cell_type": "code",
   "execution_count": 81,
   "metadata": {
    "execution": {
     "iopub.execute_input": "2021-03-14T10:39:02.707974Z",
     "iopub.status.busy": "2021-03-14T10:39:02.706874Z",
     "iopub.status.idle": "2021-03-14T10:39:02.709595Z",
     "shell.execute_reply": "2021-03-14T10:39:02.710088Z"
    },
    "papermill": {
     "duration": 0.130251,
     "end_time": "2021-03-14T10:39:02.710272",
     "exception": false,
     "start_time": "2021-03-14T10:39:02.580021",
     "status": "completed"
    },
    "tags": []
   },
   "outputs": [],
   "source": [
    "test_predicts = knn_clf.predict(X=X_test)"
   ]
  },
  {
   "cell_type": "code",
   "execution_count": 82,
   "metadata": {
    "execution": {
     "iopub.execute_input": "2021-03-14T10:39:02.962337Z",
     "iopub.status.busy": "2021-03-14T10:39:02.961285Z",
     "iopub.status.idle": "2021-03-14T10:39:02.971491Z",
     "shell.execute_reply": "2021-03-14T10:39:02.970742Z"
    },
    "papermill": {
     "duration": 0.142946,
     "end_time": "2021-03-14T10:39:02.971683",
     "exception": false,
     "start_time": "2021-03-14T10:39:02.828737",
     "status": "completed"
    },
    "tags": []
   },
   "outputs": [
    {
     "data": {
      "text/plain": [
       "array([[ 4,  0],\n",
       "       [ 0, 11]])"
      ]
     },
     "execution_count": 82,
     "metadata": {},
     "output_type": "execute_result"
    }
   ],
   "source": [
    "confusion_matrix(y_true=y_test, y_pred=test_predicts)"
   ]
  },
  {
   "cell_type": "code",
   "execution_count": 83,
   "metadata": {
    "execution": {
     "iopub.execute_input": "2021-03-14T10:39:03.226262Z",
     "iopub.status.busy": "2021-03-14T10:39:03.225144Z",
     "iopub.status.idle": "2021-03-14T10:39:03.234464Z",
     "shell.execute_reply": "2021-03-14T10:39:03.235239Z"
    },
    "papermill": {
     "duration": 0.139901,
     "end_time": "2021-03-14T10:39:03.235502",
     "exception": false,
     "start_time": "2021-03-14T10:39:03.095601",
     "status": "completed"
    },
    "tags": []
   },
   "outputs": [
    {
     "name": "stdout",
     "output_type": "stream",
     "text": [
      "              precision    recall  f1-score   support\n",
      "\n",
      "       Smelt       1.00      1.00      1.00         4\n",
      "       Bream       1.00      1.00      1.00        11\n",
      "\n",
      "    accuracy                           1.00        15\n",
      "   macro avg       1.00      1.00      1.00        15\n",
      "weighted avg       1.00      1.00      1.00        15\n",
      "\n"
     ]
    }
   ],
   "source": [
    "clf_report = classification_report(y_true=y_test, y_pred=test_predicts, \n",
    "                                   labels=[0, 1],\n",
    "                                   target_names=['Smelt', 'Bream'])\n",
    "print(clf_report)"
   ]
  },
  {
   "cell_type": "markdown",
   "metadata": {
    "papermill": {
     "duration": 0.118978,
     "end_time": "2021-03-14T10:39:03.472092",
     "exception": false,
     "start_time": "2021-03-14T10:39:03.353114",
     "status": "completed"
    },
    "tags": []
   },
   "source": [
    "As treid by stratified sampling, the Model shows well performance. "
   ]
  },
  {
   "cell_type": "markdown",
   "metadata": {
    "papermill": {
     "duration": 0.115186,
     "end_time": "2021-03-14T10:39:03.702415",
     "exception": false,
     "start_time": "2021-03-14T10:39:03.587229",
     "status": "completed"
    },
    "tags": []
   },
   "source": [
    "# 5. Scaling Issue"
   ]
  },
  {
   "cell_type": "markdown",
   "metadata": {
    "papermill": {
     "duration": 0.113892,
     "end_time": "2021-03-14T10:39:03.930465",
     "exception": false,
     "start_time": "2021-03-14T10:39:03.816573",
     "status": "completed"
    },
    "tags": []
   },
   "source": [
    "Now I would like to cover the scaling issue. As talked above, kNN relies on distance for classification, if the features represent different physical units or come in vastly different scales then normalizing the training data can improve its accuracy dramatically.\n",
    "\n",
    "Here comes the example. "
   ]
  },
  {
   "cell_type": "markdown",
   "metadata": {
    "papermill": {
     "duration": 0.118644,
     "end_time": "2021-03-14T10:39:04.164370",
     "exception": false,
     "start_time": "2021-03-14T10:39:04.045726",
     "status": "completed"
    },
    "tags": []
   },
   "source": [
    "Let's assume we have 25cm, 150gram fish on the plot. "
   ]
  },
  {
   "cell_type": "code",
   "execution_count": 84,
   "metadata": {
    "execution": {
     "iopub.execute_input": "2021-03-14T10:39:04.420381Z",
     "iopub.status.busy": "2021-03-14T10:39:04.418302Z",
     "iopub.status.idle": "2021-03-14T10:39:04.562892Z",
     "shell.execute_reply": "2021-03-14T10:39:04.563578Z"
    },
    "papermill": {
     "duration": 0.281711,
     "end_time": "2021-03-14T10:39:04.563797",
     "exception": false,
     "start_time": "2021-03-14T10:39:04.282086",
     "status": "completed"
    },
    "tags": []
   },
   "outputs": [
    {
     "data": {
      "image/png": "[encoded data removed]",
      "text/plain": [
       "<Figure size 432x288 with 1 Axes>"
      ]
     },
     "metadata": {
      "needs_background": "light"
     },
     "output_type": "display_data"
    }
   ],
   "source": [
    "plt.scatter(25, 150, marker='v', color='red')\n",
    "plt.scatter(X_train[:, 1], X_train[:, 0])\n",
    "\n",
    "plt.xlabel('Length')\n",
    "plt.ylabel('Weight')\n",
    "plt.show()"
   ]
  },
  {
   "cell_type": "markdown",
   "metadata": {
    "papermill": {
     "duration": 0.115814,
     "end_time": "2021-03-14T10:39:04.797435",
     "exception": false,
     "start_time": "2021-03-14T10:39:04.681621",
     "status": "completed"
    },
    "tags": []
   },
   "source": [
    "If we predict this sample, which would the result be? \n",
    "\n",
    "kNN returns '0' which is 'Smelt'. As Weight unit is much more bigger than Length, kNN tendes to rely more on Weight than Length. "
   ]
  },
  {
   "cell_type": "code",
   "execution_count": 85,
   "metadata": {
    "execution": {
     "iopub.execute_input": "2021-03-14T10:39:05.040678Z",
     "iopub.status.busy": "2021-03-14T10:39:05.039667Z",
     "iopub.status.idle": "2021-03-14T10:39:05.046514Z",
     "shell.execute_reply": "2021-03-14T10:39:05.045806Z"
    },
    "papermill": {
     "duration": 0.132536,
     "end_time": "2021-03-14T10:39:05.046703",
     "exception": false,
     "start_time": "2021-03-14T10:39:04.914167",
     "status": "completed"
    },
    "tags": []
   },
   "outputs": [
    {
     "data": {
      "text/plain": [
       "array([0])"
      ]
     },
     "execution_count": 85,
     "metadata": {},
     "output_type": "execute_result"
    }
   ],
   "source": [
    "test_fish = [[150, 25]]\n",
    "test_pred = knn_clf.predict(X=test_fish)\n",
    "test_pred"
   ]
  },
  {
   "cell_type": "markdown",
   "metadata": {
    "papermill": {
     "duration": 0.120006,
     "end_time": "2021-03-14T10:39:05.287184",
     "exception": false,
     "start_time": "2021-03-14T10:39:05.167178",
     "status": "completed"
    },
    "tags": []
   },
   "source": [
    "If I am tying to set the same scale, this will look like this. \n",
    "> Yellow mark below represent the first neighbor of 'Red(25cm, 150g)'\n",
    "\n",
    "> Green mark below represent the second neighbor of 'Red(25cm, 150g)'"
   ]
  },
  {
   "cell_type": "code",
   "execution_count": 86,
   "metadata": {
    "execution": {
     "iopub.execute_input": "2021-03-14T10:39:05.557401Z",
     "iopub.status.busy": "2021-03-14T10:39:05.555183Z",
     "iopub.status.idle": "2021-03-14T10:39:05.708547Z",
     "shell.execute_reply": "2021-03-14T10:39:05.707778Z"
    },
    "papermill": {
     "duration": 0.298155,
     "end_time": "2021-03-14T10:39:05.708726",
     "exception": false,
     "start_time": "2021-03-14T10:39:05.410571",
     "status": "completed"
    },
    "tags": []
   },
   "outputs": [
    {
     "data": {
      "image/png": "[encoded data removed]",
      "text/plain": [
       "<Figure size 432x288 with 1 Axes>"
      ]
     },
     "metadata": {
      "needs_background": "light"
     },
     "output_type": "display_data"
    }
   ],
   "source": [
    "plt.scatter(25, 150, marker='v', color='red')\n",
    "plt.scatter(X_train[:, 1], X_train[:, 0])\n",
    "plt.scatter(X_train[0, 1], X_train[0, 0], marker='D', color='orange')\n",
    "plt.scatter(X_train[18, 1], X_train[18, 0], marker='D', color='green')\n",
    "\n",
    "plt.xlim((0, 1_000))\n",
    "plt.ylim((0, 1_000))\n",
    "plt.gca().set_aspect('equal')\n",
    "\n",
    "plt.xlabel('Length')\n",
    "plt.ylabel('Weight')\n",
    "plt.show()"
   ]
  },
  {
   "cell_type": "markdown",
   "metadata": {
    "papermill": {
     "duration": 0.116139,
     "end_time": "2021-03-14T10:39:05.944799",
     "exception": false,
     "start_time": "2021-03-14T10:39:05.828660",
     "status": "completed"
    },
    "tags": []
   },
   "source": [
    "## Standardization"
   ]
  },
  {
   "cell_type": "markdown",
   "metadata": {
    "papermill": {
     "duration": 0.122926,
     "end_time": "2021-03-14T10:39:06.194865",
     "exception": false,
     "start_time": "2021-03-14T10:39:06.071939",
     "status": "completed"
    },
    "tags": []
   },
   "source": [
    "\n",
    "<img src='https://www.oreilly.com/library/view/hands-on-machine-learning/9781788393485/assets/7a9d8cb9-10f7-43b5-b52f-865fbbb0b69e.png' width=400 align='left'>"
   ]
  },
  {
   "cell_type": "code",
   "execution_count": 87,
   "metadata": {
    "execution": {
     "iopub.execute_input": "2021-03-14T10:39:06.445348Z",
     "iopub.status.busy": "2021-03-14T10:39:06.443961Z",
     "iopub.status.idle": "2021-03-14T10:39:06.448341Z",
     "shell.execute_reply": "2021-03-14T10:39:06.448877Z"
    },
    "papermill": {
     "duration": 0.132772,
     "end_time": "2021-03-14T10:39:06.449131",
     "exception": false,
     "start_time": "2021-03-14T10:39:06.316359",
     "status": "completed"
    },
    "tags": []
   },
   "outputs": [
    {
     "data": {
      "text/plain": [
       "array([[416.84117647,  26.32941176]])"
      ]
     },
     "execution_count": 87,
     "metadata": {},
     "output_type": "execute_result"
    }
   ],
   "source": [
    "train_mean = np.mean(X_train, axis=0, keepdims=True)  \n",
    "train_mean"
   ]
  },
  {
   "cell_type": "code",
   "execution_count": 88,
   "metadata": {
    "execution": {
     "iopub.execute_input": "2021-03-14T10:39:06.731212Z",
     "iopub.status.busy": "2021-03-14T10:39:06.730160Z",
     "iopub.status.idle": "2021-03-14T10:39:06.735035Z",
     "shell.execute_reply": "2021-03-14T10:39:06.734377Z"
    },
    "papermill": {
     "duration": 0.170704,
     "end_time": "2021-03-14T10:39:06.735186",
     "exception": false,
     "start_time": "2021-03-14T10:39:06.564482",
     "status": "completed"
    },
    "tags": []
   },
   "outputs": [
    {
     "data": {
      "text/plain": [
       "array([[313.14851214,   9.87085816]])"
      ]
     },
     "execution_count": 88,
     "metadata": {},
     "output_type": "execute_result"
    }
   ],
   "source": [
    "train_std = np.std(X_train, axis=0, keepdims=True)\n",
    "train_std"
   ]
  },
  {
   "cell_type": "code",
   "execution_count": 89,
   "metadata": {
    "execution": {
     "iopub.execute_input": "2021-03-14T10:39:06.977033Z",
     "iopub.status.busy": "2021-03-14T10:39:06.976248Z",
     "iopub.status.idle": "2021-03-14T10:39:06.982298Z",
     "shell.execute_reply": "2021-03-14T10:39:06.982836Z"
    },
    "papermill": {
     "duration": 0.128629,
     "end_time": "2021-03-14T10:39:06.983018",
     "exception": false,
     "start_time": "2021-03-14T10:39:06.854389",
     "status": "completed"
    },
    "tags": []
   },
   "outputs": [
    {
     "data": {
      "text/plain": [
       "array([[-0.55833309, -0.09415714],\n",
       "       [ 1.71854185,  1.23298178],\n",
       "       [ 0.26555714,  0.34146861],\n",
       "       [-1.2998343 , -1.5327352 ],\n",
       "       [ 0.6487619 ,  0.82774852]])"
      ]
     },
     "execution_count": 89,
     "metadata": {},
     "output_type": "execute_result"
    }
   ],
   "source": [
    "X_train_scaled = (X_train - train_mean) / train_std\n",
    "X_train_scaled[:5]"
   ]
  },
  {
   "cell_type": "code",
   "execution_count": 90,
   "metadata": {
    "execution": {
     "iopub.execute_input": "2021-03-14T10:39:07.226883Z",
     "iopub.status.busy": "2021-03-14T10:39:07.226123Z",
     "iopub.status.idle": "2021-03-14T10:39:07.232168Z",
     "shell.execute_reply": "2021-03-14T10:39:07.232680Z"
    },
    "papermill": {
     "duration": 0.126608,
     "end_time": "2021-03-14T10:39:07.232853",
     "exception": false,
     "start_time": "2021-03-14T10:39:07.106245",
     "status": "completed"
    },
    "tags": []
   },
   "outputs": [
    {
     "data": {
      "text/plain": [
       "(array([-6.53072367e-17, -2.41636776e-16]), array([1., 1.]))"
      ]
     },
     "execution_count": 90,
     "metadata": {},
     "output_type": "execute_result"
    }
   ],
   "source": [
    "np.mean(X_train_scaled, axis=0), np.std(X_train_scaled, axis=0)"
   ]
  },
  {
   "cell_type": "code",
   "execution_count": 91,
   "metadata": {
    "execution": {
     "iopub.execute_input": "2021-03-14T10:39:07.475217Z",
     "iopub.status.busy": "2021-03-14T10:39:07.474512Z",
     "iopub.status.idle": "2021-03-14T10:39:07.479522Z",
     "shell.execute_reply": "2021-03-14T10:39:07.478867Z"
    },
    "papermill": {
     "duration": 0.127917,
     "end_time": "2021-03-14T10:39:07.479685",
     "exception": false,
     "start_time": "2021-03-14T10:39:07.351768",
     "status": "completed"
    },
    "tags": []
   },
   "outputs": [
    {
     "data": {
      "text/plain": [
       "array([[1.70257499, 1.48625256],\n",
       "       [0.26555714, 0.47316942],\n",
       "       [0.61682817, 0.72644021],\n",
       "       [0.04202103, 0.27055279],\n",
       "       [1.38323769, 0.97971099]])"
      ]
     },
     "execution_count": 91,
     "metadata": {},
     "output_type": "execute_result"
    }
   ],
   "source": [
    "X_test_scaled = (X_test - train_mean) / train_std\n",
    "X_test_scaled[:5]"
   ]
  },
  {
   "cell_type": "code",
   "execution_count": 92,
   "metadata": {
    "execution": {
     "iopub.execute_input": "2021-03-14T10:39:07.716404Z",
     "iopub.status.busy": "2021-03-14T10:39:07.715762Z",
     "iopub.status.idle": "2021-03-14T10:39:07.721254Z",
     "shell.execute_reply": "2021-03-14T10:39:07.721718Z"
    },
    "papermill": {
     "duration": 0.125532,
     "end_time": "2021-03-14T10:39:07.721898",
     "exception": false,
     "start_time": "2021-03-14T10:39:07.596366",
     "status": "completed"
    },
    "tags": []
   },
   "outputs": [
    {
     "data": {
      "text/plain": [
       "array([[-0.85212341, -0.13468046]])"
      ]
     },
     "execution_count": 92,
     "metadata": {},
     "output_type": "execute_result"
    }
   ],
   "source": [
    "# Scaling the test fish\n",
    "test_fish_scaled = (test_fish - train_mean) / train_std\n",
    "test_fish_scaled"
   ]
  },
  {
   "cell_type": "markdown",
   "metadata": {
    "papermill": {
     "duration": 0.116332,
     "end_time": "2021-03-14T10:39:07.955073",
     "exception": false,
     "start_time": "2021-03-14T10:39:07.838741",
     "status": "completed"
    },
    "tags": []
   },
   "source": [
    "Plot the train set after scaling."
   ]
  },
  {
   "cell_type": "code",
   "execution_count": 93,
   "metadata": {
    "execution": {
     "iopub.execute_input": "2021-03-14T10:39:08.194111Z",
     "iopub.status.busy": "2021-03-14T10:39:08.193453Z",
     "iopub.status.idle": "2021-03-14T10:39:08.459108Z",
     "shell.execute_reply": "2021-03-14T10:39:08.459575Z"
    },
    "papermill": {
     "duration": 0.387354,
     "end_time": "2021-03-14T10:39:08.459776",
     "exception": false,
     "start_time": "2021-03-14T10:39:08.072422",
     "status": "completed"
    },
    "tags": []
   },
   "outputs": [
    {
     "data": {
      "image/png": "[encoded data removed]",
      "text/plain": [
       "<Figure size 432x288 with 1 Axes>"
      ]
     },
     "metadata": {
      "needs_background": "light"
     },
     "output_type": "display_data"
    }
   ],
   "source": [
    "plt.scatter(X_train_scaled[:, 1], X_train_scaled[:, 0])\n",
    "plt.scatter(test_fish_scaled[0, 1], test_fish_scaled[0, 0], marker='v', color='red')\n",
    "\n",
    "plt.xlabel('Length')\n",
    "plt.ylabel('Weight')\n",
    "plt.show()"
   ]
  },
  {
   "cell_type": "markdown",
   "metadata": {
    "papermill": {
     "duration": 0.119141,
     "end_time": "2021-03-14T10:39:08.697427",
     "exception": false,
     "start_time": "2021-03-14T10:39:08.578286",
     "status": "completed"
    },
    "tags": []
   },
   "source": [
    "Now I am going to test the model based on scaled data-sets."
   ]
  },
  {
   "cell_type": "code",
   "execution_count": 94,
   "metadata": {
    "execution": {
     "iopub.execute_input": "2021-03-14T10:39:08.939808Z",
     "iopub.status.busy": "2021-03-14T10:39:08.938800Z",
     "iopub.status.idle": "2021-03-14T10:39:08.946989Z",
     "shell.execute_reply": "2021-03-14T10:39:08.947467Z"
    },
    "papermill": {
     "duration": 0.13106,
     "end_time": "2021-03-14T10:39:08.947660",
     "exception": false,
     "start_time": "2021-03-14T10:39:08.816600",
     "status": "completed"
    },
    "tags": []
   },
   "outputs": [
    {
     "data": {
      "text/plain": [
       "array([1])"
      ]
     },
     "execution_count": 94,
     "metadata": {},
     "output_type": "execute_result"
    }
   ],
   "source": [
    "knn_clf = KNeighborsClassifier()\n",
    "knn_clf.fit(X=X_train_scaled, y=y_train)\n",
    "test_pred = knn_clf.predict(X=test_fish_scaled)\n",
    "test_pred  # Bream "
   ]
  },
  {
   "cell_type": "code",
   "execution_count": 95,
   "metadata": {
    "execution": {
     "iopub.execute_input": "2021-03-14T10:39:09.193593Z",
     "iopub.status.busy": "2021-03-14T10:39:09.192603Z",
     "iopub.status.idle": "2021-03-14T10:39:09.202207Z",
     "shell.execute_reply": "2021-03-14T10:39:09.201508Z"
    },
    "papermill": {
     "duration": 0.134254,
     "end_time": "2021-03-14T10:39:09.202356",
     "exception": false,
     "start_time": "2021-03-14T10:39:09.068102",
     "status": "completed"
    },
    "tags": []
   },
   "outputs": [
    {
     "data": {
      "text/plain": [
       "1.0"
      ]
     },
     "execution_count": 95,
     "metadata": {},
     "output_type": "execute_result"
    }
   ],
   "source": [
    "knn_clf.score(X=X_train_scaled, y=y_train)"
   ]
  },
  {
   "cell_type": "code",
   "execution_count": 96,
   "metadata": {
    "execution": {
     "iopub.execute_input": "2021-03-14T10:39:09.457119Z",
     "iopub.status.busy": "2021-03-14T10:39:09.456248Z",
     "iopub.status.idle": "2021-03-14T10:39:09.463270Z",
     "shell.execute_reply": "2021-03-14T10:39:09.462562Z"
    },
    "papermill": {
     "duration": 0.137036,
     "end_time": "2021-03-14T10:39:09.463419",
     "exception": false,
     "start_time": "2021-03-14T10:39:09.326383",
     "status": "completed"
    },
    "tags": []
   },
   "outputs": [
    {
     "data": {
      "text/plain": [
       "1.0"
      ]
     },
     "execution_count": 96,
     "metadata": {},
     "output_type": "execute_result"
    }
   ],
   "source": [
    "knn_clf.score(X=X_test_scaled, y=y_test)"
   ]
  },
  {
   "cell_type": "code",
   "execution_count": 97,
   "metadata": {
    "execution": {
     "iopub.execute_input": "2021-03-14T10:39:09.715247Z",
     "iopub.status.busy": "2021-03-14T10:39:09.714514Z",
     "iopub.status.idle": "2021-03-14T10:39:09.720159Z",
     "shell.execute_reply": "2021-03-14T10:39:09.720724Z"
    },
    "papermill": {
     "duration": 0.136251,
     "end_time": "2021-03-14T10:39:09.720916",
     "exception": false,
     "start_time": "2021-03-14T10:39:09.584665",
     "status": "completed"
    },
    "tags": []
   },
   "outputs": [],
   "source": [
    "test_predicts = knn_clf.predict(X=X_test_scaled)"
   ]
  },
  {
   "cell_type": "code",
   "execution_count": 98,
   "metadata": {
    "execution": {
     "iopub.execute_input": "2021-03-14T10:39:09.983160Z",
     "iopub.status.busy": "2021-03-14T10:39:09.982412Z",
     "iopub.status.idle": "2021-03-14T10:39:09.992965Z",
     "shell.execute_reply": "2021-03-14T10:39:09.992106Z"
    },
    "papermill": {
     "duration": 0.143574,
     "end_time": "2021-03-14T10:39:09.993139",
     "exception": false,
     "start_time": "2021-03-14T10:39:09.849565",
     "status": "completed"
    },
    "tags": []
   },
   "outputs": [
    {
     "name": "stdout",
     "output_type": "stream",
     "text": [
      "              precision    recall  f1-score   support\n",
      "\n",
      "       Smelt       1.00      1.00      1.00         4\n",
      "       Bream       1.00      1.00      1.00        11\n",
      "\n",
      "    accuracy                           1.00        15\n",
      "   macro avg       1.00      1.00      1.00        15\n",
      "weighted avg       1.00      1.00      1.00        15\n",
      "\n"
     ]
    }
   ],
   "source": [
    "clf_report = classification_report(y_true=y_test, y_pred=test_predicts, \n",
    "                                   labels=[0, 1],\n",
    "                                   target_names=['Smelt', 'Bream'])\n",
    "print(clf_report)"
   ]
  },
  {
   "cell_type": "markdown",
   "metadata": {
    "papermill": {
     "duration": 0.122009,
     "end_time": "2021-03-14T10:39:10.242278",
     "exception": false,
     "start_time": "2021-03-14T10:39:10.120269",
     "status": "completed"
    },
    "tags": []
   },
   "source": [
    "Now all looks perfect. "
   ]
  },
  {
   "cell_type": "markdown",
   "metadata": {
    "papermill": {
     "duration": 0.122235,
     "end_time": "2021-03-14T10:39:10.486222",
     "exception": false,
     "start_time": "2021-03-14T10:39:10.363987",
     "status": "completed"
    },
    "tags": []
   },
   "source": [
    "# 6. Conclusion"
   ]
  },
  {
   "cell_type": "markdown",
   "metadata": {
    "papermill": {
     "duration": 0.120363,
     "end_time": "2021-03-14T10:39:10.728089",
     "exception": false,
     "start_time": "2021-03-14T10:39:10.607726",
     "status": "completed"
    },
    "tags": []
   },
   "source": [
    "This is the summary of the notbooek. \n",
    "\n",
    "* k-nearest neighbors algorithm is used for classification and regression. The output depends on whether k-NN is used for classification or regression.\n",
    "* There is a better way of doing it by trying a bunch of different hyperparameter values.Scikit-learn provides a simple way of achieving this using `n_neightbors`.\n",
    "* As this replies on the distance, data should be collectively exhaustive and mutually.\n",
    "* If the features represent different physical units or come in vastly different scales then normalizing the training data can improve its accuracy dramatically.\n"
   ]
  },
  {
   "cell_type": "markdown",
   "metadata": {
    "papermill": {
     "duration": 0.123474,
     "end_time": "2021-03-14T10:39:10.973425",
     "exception": false,
     "start_time": "2021-03-14T10:39:10.849951",
     "status": "completed"
    },
    "tags": []
   },
   "source": [
    "---"
   ]
  },
  {
   "cell_type": "markdown",
   "metadata": {
    "papermill": {
     "duration": 0.120863,
     "end_time": "2021-03-14T10:39:11.466373",
     "exception": false,
     "start_time": "2021-03-14T10:39:11.345510",
     "status": "completed"
    },
    "tags": []
   },
   "source": [
    "<img src='https://cdn.images.express.co.uk/img/dynamic/130/590x/Fishing-and-lockdown-fishing-exercise-latest-news-coronavirus-1259607.webp?r=1592143825316'>"
   ]
  }
 ],
 "metadata": {
  "kernelspec": {
   "display_name": "Python 3 (ipykernel)",
   "language": "python",
   "name": "python3"
  },
  "language_info": {
   "codemirror_mode": {
    "name": "ipython",
    "version": 3
   },
   "file_extension": ".py",
   "mimetype": "text/x-python",
   "name": "python",
   "nbconvert_exporter": "python",
   "pygments_lexer": "ipython3",
   "version": "3.9.7"
  },
  "papermill": {
   "default_parameters": {},
   "duration": 41.996554,
   "end_time": "2021-03-14T10:39:12.300654",
   "environment_variables": {},
   "exception": null,
   "input_path": "__notebook__.ipynb",
   "output_path": "__notebook__.ipynb",
   "parameters": {},
   "start_time": "2021-03-14T10:38:30.304100",
   "version": "2.2.2"
  }
 },
 "nbformat": 4,
 "nbformat_minor": 4
}
